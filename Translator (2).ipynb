{
  "nbformat": 4,
  "nbformat_minor": 0,
  "metadata": {
    "colab": {
      "name": "Translator.ipynb",
      "provenance": [],
      "collapsed_sections": [
        "J3aFzSdbdkT4",
        "RaaM04m8dx65",
        "QUBWkGIqd_qk",
        "9_pB2nqxgIvG",
        "TFSEynZp5XcU",
        "GQiBjWPvfWN4",
        "h0IisRRs_NNi"
      ]
    },
    "kernelspec": {
      "name": "python3",
      "display_name": "Python 3"
    },
    "language_info": {
      "name": "python"
    },
    "widgets": {
      "application/vnd.jupyter.widget-state+json": {
        "b5e2f0405eb04036a91e67fd9d81c960": {
          "model_module": "@jupyter-widgets/controls",
          "model_name": "HBoxModel",
          "model_module_version": "1.5.0",
          "state": {
            "_view_name": "HBoxView",
            "_dom_classes": [],
            "_model_name": "HBoxModel",
            "_view_module": "@jupyter-widgets/controls",
            "_model_module_version": "1.5.0",
            "_view_count": null,
            "_view_module_version": "1.5.0",
            "box_style": "",
            "layout": "IPY_MODEL_f1a3211fae074361859fe42f180d4476",
            "_model_module": "@jupyter-widgets/controls",
            "children": [
              "IPY_MODEL_8317edf8961548fbae98db98fa2d997b",
              "IPY_MODEL_95f33112cc0349a89a22ad44368afcd9",
              "IPY_MODEL_4744c62415154da697e23c5dd021bbdf"
            ]
          }
        },
        "f1a3211fae074361859fe42f180d4476": {
          "model_module": "@jupyter-widgets/base",
          "model_name": "LayoutModel",
          "model_module_version": "1.2.0",
          "state": {
            "_view_name": "LayoutView",
            "grid_template_rows": null,
            "right": null,
            "justify_content": null,
            "_view_module": "@jupyter-widgets/base",
            "overflow": null,
            "_model_module_version": "1.2.0",
            "_view_count": null,
            "flex_flow": null,
            "width": null,
            "min_width": null,
            "border": null,
            "align_items": null,
            "bottom": null,
            "_model_module": "@jupyter-widgets/base",
            "top": null,
            "grid_column": null,
            "overflow_y": null,
            "overflow_x": null,
            "grid_auto_flow": null,
            "grid_area": null,
            "grid_template_columns": null,
            "flex": null,
            "_model_name": "LayoutModel",
            "justify_items": null,
            "grid_row": null,
            "max_height": null,
            "align_content": null,
            "visibility": null,
            "align_self": null,
            "height": null,
            "min_height": null,
            "padding": null,
            "grid_auto_rows": null,
            "grid_gap": null,
            "max_width": null,
            "order": null,
            "_view_module_version": "1.2.0",
            "grid_template_areas": null,
            "object_position": null,
            "object_fit": null,
            "grid_auto_columns": null,
            "margin": null,
            "display": null,
            "left": null
          }
        },
        "8317edf8961548fbae98db98fa2d997b": {
          "model_module": "@jupyter-widgets/controls",
          "model_name": "HTMLModel",
          "model_module_version": "1.5.0",
          "state": {
            "_view_name": "HTMLView",
            "style": "IPY_MODEL_ae3026355f294cc7b3b61821b54b8b07",
            "_dom_classes": [],
            "description": "",
            "_model_name": "HTMLModel",
            "placeholder": "​",
            "_view_module": "@jupyter-widgets/controls",
            "_model_module_version": "1.5.0",
            "value": "Downloading: 100%",
            "_view_count": null,
            "_view_module_version": "1.5.0",
            "description_tooltip": null,
            "_model_module": "@jupyter-widgets/controls",
            "layout": "IPY_MODEL_cf7f85e6c2e4464fa760989d353dd3d9"
          }
        },
        "95f33112cc0349a89a22ad44368afcd9": {
          "model_module": "@jupyter-widgets/controls",
          "model_name": "FloatProgressModel",
          "model_module_version": "1.5.0",
          "state": {
            "_view_name": "ProgressView",
            "style": "IPY_MODEL_2e8af1e71bb048f194c11414f9925dcd",
            "_dom_classes": [],
            "description": "",
            "_model_name": "FloatProgressModel",
            "bar_style": "success",
            "max": 1146,
            "_view_module": "@jupyter-widgets/controls",
            "_model_module_version": "1.5.0",
            "value": 1146,
            "_view_count": null,
            "_view_module_version": "1.5.0",
            "orientation": "horizontal",
            "min": 0,
            "description_tooltip": null,
            "_model_module": "@jupyter-widgets/controls",
            "layout": "IPY_MODEL_2b1097646c7941fe8accf91bdbe24328"
          }
        },
        "4744c62415154da697e23c5dd021bbdf": {
          "model_module": "@jupyter-widgets/controls",
          "model_name": "HTMLModel",
          "model_module_version": "1.5.0",
          "state": {
            "_view_name": "HTMLView",
            "style": "IPY_MODEL_d270ffffb91843aebe2d27ac8c4da24d",
            "_dom_classes": [],
            "description": "",
            "_model_name": "HTMLModel",
            "placeholder": "​",
            "_view_module": "@jupyter-widgets/controls",
            "_model_module_version": "1.5.0",
            "value": " 1.12k/1.12k [00:00&lt;00:00, 27.5kB/s]",
            "_view_count": null,
            "_view_module_version": "1.5.0",
            "description_tooltip": null,
            "_model_module": "@jupyter-widgets/controls",
            "layout": "IPY_MODEL_091711fbc4084f91b9caaa9f762b17aa"
          }
        },
        "ae3026355f294cc7b3b61821b54b8b07": {
          "model_module": "@jupyter-widgets/controls",
          "model_name": "DescriptionStyleModel",
          "model_module_version": "1.5.0",
          "state": {
            "_view_name": "StyleView",
            "_model_name": "DescriptionStyleModel",
            "description_width": "",
            "_view_module": "@jupyter-widgets/base",
            "_model_module_version": "1.5.0",
            "_view_count": null,
            "_view_module_version": "1.2.0",
            "_model_module": "@jupyter-widgets/controls"
          }
        },
        "cf7f85e6c2e4464fa760989d353dd3d9": {
          "model_module": "@jupyter-widgets/base",
          "model_name": "LayoutModel",
          "model_module_version": "1.2.0",
          "state": {
            "_view_name": "LayoutView",
            "grid_template_rows": null,
            "right": null,
            "justify_content": null,
            "_view_module": "@jupyter-widgets/base",
            "overflow": null,
            "_model_module_version": "1.2.0",
            "_view_count": null,
            "flex_flow": null,
            "width": null,
            "min_width": null,
            "border": null,
            "align_items": null,
            "bottom": null,
            "_model_module": "@jupyter-widgets/base",
            "top": null,
            "grid_column": null,
            "overflow_y": null,
            "overflow_x": null,
            "grid_auto_flow": null,
            "grid_area": null,
            "grid_template_columns": null,
            "flex": null,
            "_model_name": "LayoutModel",
            "justify_items": null,
            "grid_row": null,
            "max_height": null,
            "align_content": null,
            "visibility": null,
            "align_self": null,
            "height": null,
            "min_height": null,
            "padding": null,
            "grid_auto_rows": null,
            "grid_gap": null,
            "max_width": null,
            "order": null,
            "_view_module_version": "1.2.0",
            "grid_template_areas": null,
            "object_position": null,
            "object_fit": null,
            "grid_auto_columns": null,
            "margin": null,
            "display": null,
            "left": null
          }
        },
        "2e8af1e71bb048f194c11414f9925dcd": {
          "model_module": "@jupyter-widgets/controls",
          "model_name": "ProgressStyleModel",
          "model_module_version": "1.5.0",
          "state": {
            "_view_name": "StyleView",
            "_model_name": "ProgressStyleModel",
            "description_width": "",
            "_view_module": "@jupyter-widgets/base",
            "_model_module_version": "1.5.0",
            "_view_count": null,
            "_view_module_version": "1.2.0",
            "bar_color": null,
            "_model_module": "@jupyter-widgets/controls"
          }
        },
        "2b1097646c7941fe8accf91bdbe24328": {
          "model_module": "@jupyter-widgets/base",
          "model_name": "LayoutModel",
          "model_module_version": "1.2.0",
          "state": {
            "_view_name": "LayoutView",
            "grid_template_rows": null,
            "right": null,
            "justify_content": null,
            "_view_module": "@jupyter-widgets/base",
            "overflow": null,
            "_model_module_version": "1.2.0",
            "_view_count": null,
            "flex_flow": null,
            "width": null,
            "min_width": null,
            "border": null,
            "align_items": null,
            "bottom": null,
            "_model_module": "@jupyter-widgets/base",
            "top": null,
            "grid_column": null,
            "overflow_y": null,
            "overflow_x": null,
            "grid_auto_flow": null,
            "grid_area": null,
            "grid_template_columns": null,
            "flex": null,
            "_model_name": "LayoutModel",
            "justify_items": null,
            "grid_row": null,
            "max_height": null,
            "align_content": null,
            "visibility": null,
            "align_self": null,
            "height": null,
            "min_height": null,
            "padding": null,
            "grid_auto_rows": null,
            "grid_gap": null,
            "max_width": null,
            "order": null,
            "_view_module_version": "1.2.0",
            "grid_template_areas": null,
            "object_position": null,
            "object_fit": null,
            "grid_auto_columns": null,
            "margin": null,
            "display": null,
            "left": null
          }
        },
        "d270ffffb91843aebe2d27ac8c4da24d": {
          "model_module": "@jupyter-widgets/controls",
          "model_name": "DescriptionStyleModel",
          "model_module_version": "1.5.0",
          "state": {
            "_view_name": "StyleView",
            "_model_name": "DescriptionStyleModel",
            "description_width": "",
            "_view_module": "@jupyter-widgets/base",
            "_model_module_version": "1.5.0",
            "_view_count": null,
            "_view_module_version": "1.2.0",
            "_model_module": "@jupyter-widgets/controls"
          }
        },
        "091711fbc4084f91b9caaa9f762b17aa": {
          "model_module": "@jupyter-widgets/base",
          "model_name": "LayoutModel",
          "model_module_version": "1.2.0",
          "state": {
            "_view_name": "LayoutView",
            "grid_template_rows": null,
            "right": null,
            "justify_content": null,
            "_view_module": "@jupyter-widgets/base",
            "overflow": null,
            "_model_module_version": "1.2.0",
            "_view_count": null,
            "flex_flow": null,
            "width": null,
            "min_width": null,
            "border": null,
            "align_items": null,
            "bottom": null,
            "_model_module": "@jupyter-widgets/base",
            "top": null,
            "grid_column": null,
            "overflow_y": null,
            "overflow_x": null,
            "grid_auto_flow": null,
            "grid_area": null,
            "grid_template_columns": null,
            "flex": null,
            "_model_name": "LayoutModel",
            "justify_items": null,
            "grid_row": null,
            "max_height": null,
            "align_content": null,
            "visibility": null,
            "align_self": null,
            "height": null,
            "min_height": null,
            "padding": null,
            "grid_auto_rows": null,
            "grid_gap": null,
            "max_width": null,
            "order": null,
            "_view_module_version": "1.2.0",
            "grid_template_areas": null,
            "object_position": null,
            "object_fit": null,
            "grid_auto_columns": null,
            "margin": null,
            "display": null,
            "left": null
          }
        },
        "a9576b513e4e4d68808784629cf5c26d": {
          "model_module": "@jupyter-widgets/controls",
          "model_name": "HBoxModel",
          "model_module_version": "1.5.0",
          "state": {
            "_view_name": "HBoxView",
            "_dom_classes": [],
            "_model_name": "HBoxModel",
            "_view_module": "@jupyter-widgets/controls",
            "_model_module_version": "1.5.0",
            "_view_count": null,
            "_view_module_version": "1.5.0",
            "box_style": "",
            "layout": "IPY_MODEL_eafc31e3b4c24ebf8f20d0942f31b149",
            "_model_module": "@jupyter-widgets/controls",
            "children": [
              "IPY_MODEL_6bd3e708693549b785e9d133ea96b85d",
              "IPY_MODEL_dba695fceb554d76ab404dd4a25e9c30",
              "IPY_MODEL_5cdfc93f504a4bdca321fcdc680ca6dd"
            ]
          }
        },
        "eafc31e3b4c24ebf8f20d0942f31b149": {
          "model_module": "@jupyter-widgets/base",
          "model_name": "LayoutModel",
          "model_module_version": "1.2.0",
          "state": {
            "_view_name": "LayoutView",
            "grid_template_rows": null,
            "right": null,
            "justify_content": null,
            "_view_module": "@jupyter-widgets/base",
            "overflow": null,
            "_model_module_version": "1.2.0",
            "_view_count": null,
            "flex_flow": null,
            "width": null,
            "min_width": null,
            "border": null,
            "align_items": null,
            "bottom": null,
            "_model_module": "@jupyter-widgets/base",
            "top": null,
            "grid_column": null,
            "overflow_y": null,
            "overflow_x": null,
            "grid_auto_flow": null,
            "grid_area": null,
            "grid_template_columns": null,
            "flex": null,
            "_model_name": "LayoutModel",
            "justify_items": null,
            "grid_row": null,
            "max_height": null,
            "align_content": null,
            "visibility": null,
            "align_self": null,
            "height": null,
            "min_height": null,
            "padding": null,
            "grid_auto_rows": null,
            "grid_gap": null,
            "max_width": null,
            "order": null,
            "_view_module_version": "1.2.0",
            "grid_template_areas": null,
            "object_position": null,
            "object_fit": null,
            "grid_auto_columns": null,
            "margin": null,
            "display": null,
            "left": null
          }
        },
        "6bd3e708693549b785e9d133ea96b85d": {
          "model_module": "@jupyter-widgets/controls",
          "model_name": "HTMLModel",
          "model_module_version": "1.5.0",
          "state": {
            "_view_name": "HTMLView",
            "style": "IPY_MODEL_d0d7bc73591b474da9b5b6d70a55482b",
            "_dom_classes": [],
            "description": "",
            "_model_name": "HTMLModel",
            "placeholder": "​",
            "_view_module": "@jupyter-widgets/controls",
            "_model_module_version": "1.5.0",
            "value": "Downloading: 100%",
            "_view_count": null,
            "_view_module_version": "1.5.0",
            "description_tooltip": null,
            "_model_module": "@jupyter-widgets/controls",
            "layout": "IPY_MODEL_ffcdae0a924c443a993f01633d982676"
          }
        },
        "dba695fceb554d76ab404dd4a25e9c30": {
          "model_module": "@jupyter-widgets/controls",
          "model_name": "FloatProgressModel",
          "model_module_version": "1.5.0",
          "state": {
            "_view_name": "ProgressView",
            "style": "IPY_MODEL_4185d27f7b424fedbe8e3d907d5079b6",
            "_dom_classes": [],
            "description": "",
            "_model_name": "FloatProgressModel",
            "bar_style": "success",
            "max": 312087009,
            "_view_module": "@jupyter-widgets/controls",
            "_model_module_version": "1.5.0",
            "value": 312087009,
            "_view_count": null,
            "_view_module_version": "1.5.0",
            "orientation": "horizontal",
            "min": 0,
            "description_tooltip": null,
            "_model_module": "@jupyter-widgets/controls",
            "layout": "IPY_MODEL_6cb313e23df248329ae196a6f27a03e6"
          }
        },
        "5cdfc93f504a4bdca321fcdc680ca6dd": {
          "model_module": "@jupyter-widgets/controls",
          "model_name": "HTMLModel",
          "model_module_version": "1.5.0",
          "state": {
            "_view_name": "HTMLView",
            "style": "IPY_MODEL_85e95fe37ae443018f5dbcdefa71fe95",
            "_dom_classes": [],
            "description": "",
            "_model_name": "HTMLModel",
            "placeholder": "​",
            "_view_module": "@jupyter-widgets/controls",
            "_model_module_version": "1.5.0",
            "value": " 298M/298M [00:06&lt;00:00, 46.6MB/s]",
            "_view_count": null,
            "_view_module_version": "1.5.0",
            "description_tooltip": null,
            "_model_module": "@jupyter-widgets/controls",
            "layout": "IPY_MODEL_659438f9356944c8b7d07ce72767358e"
          }
        },
        "d0d7bc73591b474da9b5b6d70a55482b": {
          "model_module": "@jupyter-widgets/controls",
          "model_name": "DescriptionStyleModel",
          "model_module_version": "1.5.0",
          "state": {
            "_view_name": "StyleView",
            "_model_name": "DescriptionStyleModel",
            "description_width": "",
            "_view_module": "@jupyter-widgets/base",
            "_model_module_version": "1.5.0",
            "_view_count": null,
            "_view_module_version": "1.2.0",
            "_model_module": "@jupyter-widgets/controls"
          }
        },
        "ffcdae0a924c443a993f01633d982676": {
          "model_module": "@jupyter-widgets/base",
          "model_name": "LayoutModel",
          "model_module_version": "1.2.0",
          "state": {
            "_view_name": "LayoutView",
            "grid_template_rows": null,
            "right": null,
            "justify_content": null,
            "_view_module": "@jupyter-widgets/base",
            "overflow": null,
            "_model_module_version": "1.2.0",
            "_view_count": null,
            "flex_flow": null,
            "width": null,
            "min_width": null,
            "border": null,
            "align_items": null,
            "bottom": null,
            "_model_module": "@jupyter-widgets/base",
            "top": null,
            "grid_column": null,
            "overflow_y": null,
            "overflow_x": null,
            "grid_auto_flow": null,
            "grid_area": null,
            "grid_template_columns": null,
            "flex": null,
            "_model_name": "LayoutModel",
            "justify_items": null,
            "grid_row": null,
            "max_height": null,
            "align_content": null,
            "visibility": null,
            "align_self": null,
            "height": null,
            "min_height": null,
            "padding": null,
            "grid_auto_rows": null,
            "grid_gap": null,
            "max_width": null,
            "order": null,
            "_view_module_version": "1.2.0",
            "grid_template_areas": null,
            "object_position": null,
            "object_fit": null,
            "grid_auto_columns": null,
            "margin": null,
            "display": null,
            "left": null
          }
        },
        "4185d27f7b424fedbe8e3d907d5079b6": {
          "model_module": "@jupyter-widgets/controls",
          "model_name": "ProgressStyleModel",
          "model_module_version": "1.5.0",
          "state": {
            "_view_name": "StyleView",
            "_model_name": "ProgressStyleModel",
            "description_width": "",
            "_view_module": "@jupyter-widgets/base",
            "_model_module_version": "1.5.0",
            "_view_count": null,
            "_view_module_version": "1.2.0",
            "bar_color": null,
            "_model_module": "@jupyter-widgets/controls"
          }
        },
        "6cb313e23df248329ae196a6f27a03e6": {
          "model_module": "@jupyter-widgets/base",
          "model_name": "LayoutModel",
          "model_module_version": "1.2.0",
          "state": {
            "_view_name": "LayoutView",
            "grid_template_rows": null,
            "right": null,
            "justify_content": null,
            "_view_module": "@jupyter-widgets/base",
            "overflow": null,
            "_model_module_version": "1.2.0",
            "_view_count": null,
            "flex_flow": null,
            "width": null,
            "min_width": null,
            "border": null,
            "align_items": null,
            "bottom": null,
            "_model_module": "@jupyter-widgets/base",
            "top": null,
            "grid_column": null,
            "overflow_y": null,
            "overflow_x": null,
            "grid_auto_flow": null,
            "grid_area": null,
            "grid_template_columns": null,
            "flex": null,
            "_model_name": "LayoutModel",
            "justify_items": null,
            "grid_row": null,
            "max_height": null,
            "align_content": null,
            "visibility": null,
            "align_self": null,
            "height": null,
            "min_height": null,
            "padding": null,
            "grid_auto_rows": null,
            "grid_gap": null,
            "max_width": null,
            "order": null,
            "_view_module_version": "1.2.0",
            "grid_template_areas": null,
            "object_position": null,
            "object_fit": null,
            "grid_auto_columns": null,
            "margin": null,
            "display": null,
            "left": null
          }
        },
        "85e95fe37ae443018f5dbcdefa71fe95": {
          "model_module": "@jupyter-widgets/controls",
          "model_name": "DescriptionStyleModel",
          "model_module_version": "1.5.0",
          "state": {
            "_view_name": "StyleView",
            "_model_name": "DescriptionStyleModel",
            "description_width": "",
            "_view_module": "@jupyter-widgets/base",
            "_model_module_version": "1.5.0",
            "_view_count": null,
            "_view_module_version": "1.2.0",
            "_model_module": "@jupyter-widgets/controls"
          }
        },
        "659438f9356944c8b7d07ce72767358e": {
          "model_module": "@jupyter-widgets/base",
          "model_name": "LayoutModel",
          "model_module_version": "1.2.0",
          "state": {
            "_view_name": "LayoutView",
            "grid_template_rows": null,
            "right": null,
            "justify_content": null,
            "_view_module": "@jupyter-widgets/base",
            "overflow": null,
            "_model_module_version": "1.2.0",
            "_view_count": null,
            "flex_flow": null,
            "width": null,
            "min_width": null,
            "border": null,
            "align_items": null,
            "bottom": null,
            "_model_module": "@jupyter-widgets/base",
            "top": null,
            "grid_column": null,
            "overflow_y": null,
            "overflow_x": null,
            "grid_auto_flow": null,
            "grid_area": null,
            "grid_template_columns": null,
            "flex": null,
            "_model_name": "LayoutModel",
            "justify_items": null,
            "grid_row": null,
            "max_height": null,
            "align_content": null,
            "visibility": null,
            "align_self": null,
            "height": null,
            "min_height": null,
            "padding": null,
            "grid_auto_rows": null,
            "grid_gap": null,
            "max_width": null,
            "order": null,
            "_view_module_version": "1.2.0",
            "grid_template_areas": null,
            "object_position": null,
            "object_fit": null,
            "grid_auto_columns": null,
            "margin": null,
            "display": null,
            "left": null
          }
        },
        "ef42260b913f4460b5ab0c7e899598a4": {
          "model_module": "@jupyter-widgets/controls",
          "model_name": "HBoxModel",
          "model_module_version": "1.5.0",
          "state": {
            "_view_name": "HBoxView",
            "_dom_classes": [],
            "_model_name": "HBoxModel",
            "_view_module": "@jupyter-widgets/controls",
            "_model_module_version": "1.5.0",
            "_view_count": null,
            "_view_module_version": "1.5.0",
            "box_style": "",
            "layout": "IPY_MODEL_9466422534894fcbb32a1fed6739aa9e",
            "_model_module": "@jupyter-widgets/controls",
            "children": [
              "IPY_MODEL_e20750c0e71c419ea1ecac4ddff242b7",
              "IPY_MODEL_36f94f8badcd4ef98c8c2591323f5879",
              "IPY_MODEL_942642c517d4401b948046ace94c91d0"
            ]
          }
        },
        "9466422534894fcbb32a1fed6739aa9e": {
          "model_module": "@jupyter-widgets/base",
          "model_name": "LayoutModel",
          "model_module_version": "1.2.0",
          "state": {
            "_view_name": "LayoutView",
            "grid_template_rows": null,
            "right": null,
            "justify_content": null,
            "_view_module": "@jupyter-widgets/base",
            "overflow": null,
            "_model_module_version": "1.2.0",
            "_view_count": null,
            "flex_flow": null,
            "width": null,
            "min_width": null,
            "border": null,
            "align_items": null,
            "bottom": null,
            "_model_module": "@jupyter-widgets/base",
            "top": null,
            "grid_column": null,
            "overflow_y": null,
            "overflow_x": null,
            "grid_auto_flow": null,
            "grid_area": null,
            "grid_template_columns": null,
            "flex": null,
            "_model_name": "LayoutModel",
            "justify_items": null,
            "grid_row": null,
            "max_height": null,
            "align_content": null,
            "visibility": null,
            "align_self": null,
            "height": null,
            "min_height": null,
            "padding": null,
            "grid_auto_rows": null,
            "grid_gap": null,
            "max_width": null,
            "order": null,
            "_view_module_version": "1.2.0",
            "grid_template_areas": null,
            "object_position": null,
            "object_fit": null,
            "grid_auto_columns": null,
            "margin": null,
            "display": null,
            "left": null
          }
        },
        "e20750c0e71c419ea1ecac4ddff242b7": {
          "model_module": "@jupyter-widgets/controls",
          "model_name": "HTMLModel",
          "model_module_version": "1.5.0",
          "state": {
            "_view_name": "HTMLView",
            "style": "IPY_MODEL_64e5db058fed4fa8ad967a6f6353d751",
            "_dom_classes": [],
            "description": "",
            "_model_name": "HTMLModel",
            "placeholder": "​",
            "_view_module": "@jupyter-widgets/controls",
            "_model_module_version": "1.5.0",
            "value": "Downloading: 100%",
            "_view_count": null,
            "_view_module_version": "1.5.0",
            "description_tooltip": null,
            "_model_module": "@jupyter-widgets/controls",
            "layout": "IPY_MODEL_4821acc7b8204506bb8c0afea42f6148"
          }
        },
        "36f94f8badcd4ef98c8c2591323f5879": {
          "model_module": "@jupyter-widgets/controls",
          "model_name": "FloatProgressModel",
          "model_module_version": "1.5.0",
          "state": {
            "_view_name": "ProgressView",
            "style": "IPY_MODEL_9861a9cea7254f22a4d874b4c59ac037",
            "_dom_classes": [],
            "description": "",
            "_model_name": "FloatProgressModel",
            "bar_style": "success",
            "max": 44,
            "_view_module": "@jupyter-widgets/controls",
            "_model_module_version": "1.5.0",
            "value": 44,
            "_view_count": null,
            "_view_module_version": "1.5.0",
            "orientation": "horizontal",
            "min": 0,
            "description_tooltip": null,
            "_model_module": "@jupyter-widgets/controls",
            "layout": "IPY_MODEL_bba51c42494c4e4f9324319da1a96cc3"
          }
        },
        "942642c517d4401b948046ace94c91d0": {
          "model_module": "@jupyter-widgets/controls",
          "model_name": "HTMLModel",
          "model_module_version": "1.5.0",
          "state": {
            "_view_name": "HTMLView",
            "style": "IPY_MODEL_3b4c26f9885e40c199787fd8e287a2f0",
            "_dom_classes": [],
            "description": "",
            "_model_name": "HTMLModel",
            "placeholder": "​",
            "_view_module": "@jupyter-widgets/controls",
            "_model_module_version": "1.5.0",
            "value": " 44.0/44.0 [00:00&lt;00:00, 1.12kB/s]",
            "_view_count": null,
            "_view_module_version": "1.5.0",
            "description_tooltip": null,
            "_model_module": "@jupyter-widgets/controls",
            "layout": "IPY_MODEL_85358a8d18774641add9495b284500a1"
          }
        },
        "64e5db058fed4fa8ad967a6f6353d751": {
          "model_module": "@jupyter-widgets/controls",
          "model_name": "DescriptionStyleModel",
          "model_module_version": "1.5.0",
          "state": {
            "_view_name": "StyleView",
            "_model_name": "DescriptionStyleModel",
            "description_width": "",
            "_view_module": "@jupyter-widgets/base",
            "_model_module_version": "1.5.0",
            "_view_count": null,
            "_view_module_version": "1.2.0",
            "_model_module": "@jupyter-widgets/controls"
          }
        },
        "4821acc7b8204506bb8c0afea42f6148": {
          "model_module": "@jupyter-widgets/base",
          "model_name": "LayoutModel",
          "model_module_version": "1.2.0",
          "state": {
            "_view_name": "LayoutView",
            "grid_template_rows": null,
            "right": null,
            "justify_content": null,
            "_view_module": "@jupyter-widgets/base",
            "overflow": null,
            "_model_module_version": "1.2.0",
            "_view_count": null,
            "flex_flow": null,
            "width": null,
            "min_width": null,
            "border": null,
            "align_items": null,
            "bottom": null,
            "_model_module": "@jupyter-widgets/base",
            "top": null,
            "grid_column": null,
            "overflow_y": null,
            "overflow_x": null,
            "grid_auto_flow": null,
            "grid_area": null,
            "grid_template_columns": null,
            "flex": null,
            "_model_name": "LayoutModel",
            "justify_items": null,
            "grid_row": null,
            "max_height": null,
            "align_content": null,
            "visibility": null,
            "align_self": null,
            "height": null,
            "min_height": null,
            "padding": null,
            "grid_auto_rows": null,
            "grid_gap": null,
            "max_width": null,
            "order": null,
            "_view_module_version": "1.2.0",
            "grid_template_areas": null,
            "object_position": null,
            "object_fit": null,
            "grid_auto_columns": null,
            "margin": null,
            "display": null,
            "left": null
          }
        },
        "9861a9cea7254f22a4d874b4c59ac037": {
          "model_module": "@jupyter-widgets/controls",
          "model_name": "ProgressStyleModel",
          "model_module_version": "1.5.0",
          "state": {
            "_view_name": "StyleView",
            "_model_name": "ProgressStyleModel",
            "description_width": "",
            "_view_module": "@jupyter-widgets/base",
            "_model_module_version": "1.5.0",
            "_view_count": null,
            "_view_module_version": "1.2.0",
            "bar_color": null,
            "_model_module": "@jupyter-widgets/controls"
          }
        },
        "bba51c42494c4e4f9324319da1a96cc3": {
          "model_module": "@jupyter-widgets/base",
          "model_name": "LayoutModel",
          "model_module_version": "1.2.0",
          "state": {
            "_view_name": "LayoutView",
            "grid_template_rows": null,
            "right": null,
            "justify_content": null,
            "_view_module": "@jupyter-widgets/base",
            "overflow": null,
            "_model_module_version": "1.2.0",
            "_view_count": null,
            "flex_flow": null,
            "width": null,
            "min_width": null,
            "border": null,
            "align_items": null,
            "bottom": null,
            "_model_module": "@jupyter-widgets/base",
            "top": null,
            "grid_column": null,
            "overflow_y": null,
            "overflow_x": null,
            "grid_auto_flow": null,
            "grid_area": null,
            "grid_template_columns": null,
            "flex": null,
            "_model_name": "LayoutModel",
            "justify_items": null,
            "grid_row": null,
            "max_height": null,
            "align_content": null,
            "visibility": null,
            "align_self": null,
            "height": null,
            "min_height": null,
            "padding": null,
            "grid_auto_rows": null,
            "grid_gap": null,
            "max_width": null,
            "order": null,
            "_view_module_version": "1.2.0",
            "grid_template_areas": null,
            "object_position": null,
            "object_fit": null,
            "grid_auto_columns": null,
            "margin": null,
            "display": null,
            "left": null
          }
        },
        "3b4c26f9885e40c199787fd8e287a2f0": {
          "model_module": "@jupyter-widgets/controls",
          "model_name": "DescriptionStyleModel",
          "model_module_version": "1.5.0",
          "state": {
            "_view_name": "StyleView",
            "_model_name": "DescriptionStyleModel",
            "description_width": "",
            "_view_module": "@jupyter-widgets/base",
            "_model_module_version": "1.5.0",
            "_view_count": null,
            "_view_module_version": "1.2.0",
            "_model_module": "@jupyter-widgets/controls"
          }
        },
        "85358a8d18774641add9495b284500a1": {
          "model_module": "@jupyter-widgets/base",
          "model_name": "LayoutModel",
          "model_module_version": "1.2.0",
          "state": {
            "_view_name": "LayoutView",
            "grid_template_rows": null,
            "right": null,
            "justify_content": null,
            "_view_module": "@jupyter-widgets/base",
            "overflow": null,
            "_model_module_version": "1.2.0",
            "_view_count": null,
            "flex_flow": null,
            "width": null,
            "min_width": null,
            "border": null,
            "align_items": null,
            "bottom": null,
            "_model_module": "@jupyter-widgets/base",
            "top": null,
            "grid_column": null,
            "overflow_y": null,
            "overflow_x": null,
            "grid_auto_flow": null,
            "grid_area": null,
            "grid_template_columns": null,
            "flex": null,
            "_model_name": "LayoutModel",
            "justify_items": null,
            "grid_row": null,
            "max_height": null,
            "align_content": null,
            "visibility": null,
            "align_self": null,
            "height": null,
            "min_height": null,
            "padding": null,
            "grid_auto_rows": null,
            "grid_gap": null,
            "max_width": null,
            "order": null,
            "_view_module_version": "1.2.0",
            "grid_template_areas": null,
            "object_position": null,
            "object_fit": null,
            "grid_auto_columns": null,
            "margin": null,
            "display": null,
            "left": null
          }
        },
        "b6b8b548fa904a2ba1edabe5a8ca3954": {
          "model_module": "@jupyter-widgets/controls",
          "model_name": "HBoxModel",
          "model_module_version": "1.5.0",
          "state": {
            "_view_name": "HBoxView",
            "_dom_classes": [],
            "_model_name": "HBoxModel",
            "_view_module": "@jupyter-widgets/controls",
            "_model_module_version": "1.5.0",
            "_view_count": null,
            "_view_module_version": "1.5.0",
            "box_style": "",
            "layout": "IPY_MODEL_5ca6f2c5b01e43628ae85a9330a0d3fc",
            "_model_module": "@jupyter-widgets/controls",
            "children": [
              "IPY_MODEL_403f390ff5cb4f97bbe0a578b250156a",
              "IPY_MODEL_4d13b334e63e431caaf0ea7585fe9e0b",
              "IPY_MODEL_189fa99a1672407fb7bdfc1327da71cd"
            ]
          }
        },
        "5ca6f2c5b01e43628ae85a9330a0d3fc": {
          "model_module": "@jupyter-widgets/base",
          "model_name": "LayoutModel",
          "model_module_version": "1.2.0",
          "state": {
            "_view_name": "LayoutView",
            "grid_template_rows": null,
            "right": null,
            "justify_content": null,
            "_view_module": "@jupyter-widgets/base",
            "overflow": null,
            "_model_module_version": "1.2.0",
            "_view_count": null,
            "flex_flow": null,
            "width": null,
            "min_width": null,
            "border": null,
            "align_items": null,
            "bottom": null,
            "_model_module": "@jupyter-widgets/base",
            "top": null,
            "grid_column": null,
            "overflow_y": null,
            "overflow_x": null,
            "grid_auto_flow": null,
            "grid_area": null,
            "grid_template_columns": null,
            "flex": null,
            "_model_name": "LayoutModel",
            "justify_items": null,
            "grid_row": null,
            "max_height": null,
            "align_content": null,
            "visibility": null,
            "align_self": null,
            "height": null,
            "min_height": null,
            "padding": null,
            "grid_auto_rows": null,
            "grid_gap": null,
            "max_width": null,
            "order": null,
            "_view_module_version": "1.2.0",
            "grid_template_areas": null,
            "object_position": null,
            "object_fit": null,
            "grid_auto_columns": null,
            "margin": null,
            "display": null,
            "left": null
          }
        },
        "403f390ff5cb4f97bbe0a578b250156a": {
          "model_module": "@jupyter-widgets/controls",
          "model_name": "HTMLModel",
          "model_module_version": "1.5.0",
          "state": {
            "_view_name": "HTMLView",
            "style": "IPY_MODEL_7504b8c3e0054b5081e851e541d8ba96",
            "_dom_classes": [],
            "description": "",
            "_model_name": "HTMLModel",
            "placeholder": "​",
            "_view_module": "@jupyter-widgets/controls",
            "_model_module_version": "1.5.0",
            "value": "Downloading: 100%",
            "_view_count": null,
            "_view_module_version": "1.5.0",
            "description_tooltip": null,
            "_model_module": "@jupyter-widgets/controls",
            "layout": "IPY_MODEL_828e171f68bf49ebb244151a54b76a54"
          }
        },
        "4d13b334e63e431caaf0ea7585fe9e0b": {
          "model_module": "@jupyter-widgets/controls",
          "model_name": "FloatProgressModel",
          "model_module_version": "1.5.0",
          "state": {
            "_view_name": "ProgressView",
            "style": "IPY_MODEL_cb11d6f1598f48a7b2c142a54dd33a5f",
            "_dom_classes": [],
            "description": "",
            "_model_name": "FloatProgressModel",
            "bar_style": "success",
            "max": 804677,
            "_view_module": "@jupyter-widgets/controls",
            "_model_module_version": "1.5.0",
            "value": 804677,
            "_view_count": null,
            "_view_module_version": "1.5.0",
            "orientation": "horizontal",
            "min": 0,
            "description_tooltip": null,
            "_model_module": "@jupyter-widgets/controls",
            "layout": "IPY_MODEL_62d01c6ce6184ce4a0148ca86de2f24e"
          }
        },
        "189fa99a1672407fb7bdfc1327da71cd": {
          "model_module": "@jupyter-widgets/controls",
          "model_name": "HTMLModel",
          "model_module_version": "1.5.0",
          "state": {
            "_view_name": "HTMLView",
            "style": "IPY_MODEL_e72911997d47493baec19b65942e131e",
            "_dom_classes": [],
            "description": "",
            "_model_name": "HTMLModel",
            "placeholder": "​",
            "_view_module": "@jupyter-widgets/controls",
            "_model_module_version": "1.5.0",
            "value": " 786k/786k [00:00&lt;00:00, 913kB/s]",
            "_view_count": null,
            "_view_module_version": "1.5.0",
            "description_tooltip": null,
            "_model_module": "@jupyter-widgets/controls",
            "layout": "IPY_MODEL_dec303b80efb4f758ab228533b400f78"
          }
        },
        "7504b8c3e0054b5081e851e541d8ba96": {
          "model_module": "@jupyter-widgets/controls",
          "model_name": "DescriptionStyleModel",
          "model_module_version": "1.5.0",
          "state": {
            "_view_name": "StyleView",
            "_model_name": "DescriptionStyleModel",
            "description_width": "",
            "_view_module": "@jupyter-widgets/base",
            "_model_module_version": "1.5.0",
            "_view_count": null,
            "_view_module_version": "1.2.0",
            "_model_module": "@jupyter-widgets/controls"
          }
        },
        "828e171f68bf49ebb244151a54b76a54": {
          "model_module": "@jupyter-widgets/base",
          "model_name": "LayoutModel",
          "model_module_version": "1.2.0",
          "state": {
            "_view_name": "LayoutView",
            "grid_template_rows": null,
            "right": null,
            "justify_content": null,
            "_view_module": "@jupyter-widgets/base",
            "overflow": null,
            "_model_module_version": "1.2.0",
            "_view_count": null,
            "flex_flow": null,
            "width": null,
            "min_width": null,
            "border": null,
            "align_items": null,
            "bottom": null,
            "_model_module": "@jupyter-widgets/base",
            "top": null,
            "grid_column": null,
            "overflow_y": null,
            "overflow_x": null,
            "grid_auto_flow": null,
            "grid_area": null,
            "grid_template_columns": null,
            "flex": null,
            "_model_name": "LayoutModel",
            "justify_items": null,
            "grid_row": null,
            "max_height": null,
            "align_content": null,
            "visibility": null,
            "align_self": null,
            "height": null,
            "min_height": null,
            "padding": null,
            "grid_auto_rows": null,
            "grid_gap": null,
            "max_width": null,
            "order": null,
            "_view_module_version": "1.2.0",
            "grid_template_areas": null,
            "object_position": null,
            "object_fit": null,
            "grid_auto_columns": null,
            "margin": null,
            "display": null,
            "left": null
          }
        },
        "cb11d6f1598f48a7b2c142a54dd33a5f": {
          "model_module": "@jupyter-widgets/controls",
          "model_name": "ProgressStyleModel",
          "model_module_version": "1.5.0",
          "state": {
            "_view_name": "StyleView",
            "_model_name": "ProgressStyleModel",
            "description_width": "",
            "_view_module": "@jupyter-widgets/base",
            "_model_module_version": "1.5.0",
            "_view_count": null,
            "_view_module_version": "1.2.0",
            "bar_color": null,
            "_model_module": "@jupyter-widgets/controls"
          }
        },
        "62d01c6ce6184ce4a0148ca86de2f24e": {
          "model_module": "@jupyter-widgets/base",
          "model_name": "LayoutModel",
          "model_module_version": "1.2.0",
          "state": {
            "_view_name": "LayoutView",
            "grid_template_rows": null,
            "right": null,
            "justify_content": null,
            "_view_module": "@jupyter-widgets/base",
            "overflow": null,
            "_model_module_version": "1.2.0",
            "_view_count": null,
            "flex_flow": null,
            "width": null,
            "min_width": null,
            "border": null,
            "align_items": null,
            "bottom": null,
            "_model_module": "@jupyter-widgets/base",
            "top": null,
            "grid_column": null,
            "overflow_y": null,
            "overflow_x": null,
            "grid_auto_flow": null,
            "grid_area": null,
            "grid_template_columns": null,
            "flex": null,
            "_model_name": "LayoutModel",
            "justify_items": null,
            "grid_row": null,
            "max_height": null,
            "align_content": null,
            "visibility": null,
            "align_self": null,
            "height": null,
            "min_height": null,
            "padding": null,
            "grid_auto_rows": null,
            "grid_gap": null,
            "max_width": null,
            "order": null,
            "_view_module_version": "1.2.0",
            "grid_template_areas": null,
            "object_position": null,
            "object_fit": null,
            "grid_auto_columns": null,
            "margin": null,
            "display": null,
            "left": null
          }
        },
        "e72911997d47493baec19b65942e131e": {
          "model_module": "@jupyter-widgets/controls",
          "model_name": "DescriptionStyleModel",
          "model_module_version": "1.5.0",
          "state": {
            "_view_name": "StyleView",
            "_model_name": "DescriptionStyleModel",
            "description_width": "",
            "_view_module": "@jupyter-widgets/base",
            "_model_module_version": "1.5.0",
            "_view_count": null,
            "_view_module_version": "1.2.0",
            "_model_module": "@jupyter-widgets/controls"
          }
        },
        "dec303b80efb4f758ab228533b400f78": {
          "model_module": "@jupyter-widgets/base",
          "model_name": "LayoutModel",
          "model_module_version": "1.2.0",
          "state": {
            "_view_name": "LayoutView",
            "grid_template_rows": null,
            "right": null,
            "justify_content": null,
            "_view_module": "@jupyter-widgets/base",
            "overflow": null,
            "_model_module_version": "1.2.0",
            "_view_count": null,
            "flex_flow": null,
            "width": null,
            "min_width": null,
            "border": null,
            "align_items": null,
            "bottom": null,
            "_model_module": "@jupyter-widgets/base",
            "top": null,
            "grid_column": null,
            "overflow_y": null,
            "overflow_x": null,
            "grid_auto_flow": null,
            "grid_area": null,
            "grid_template_columns": null,
            "flex": null,
            "_model_name": "LayoutModel",
            "justify_items": null,
            "grid_row": null,
            "max_height": null,
            "align_content": null,
            "visibility": null,
            "align_self": null,
            "height": null,
            "min_height": null,
            "padding": null,
            "grid_auto_rows": null,
            "grid_gap": null,
            "max_width": null,
            "order": null,
            "_view_module_version": "1.2.0",
            "grid_template_areas": null,
            "object_position": null,
            "object_fit": null,
            "grid_auto_columns": null,
            "margin": null,
            "display": null,
            "left": null
          }
        },
        "a23268f8ee784a4f844ad868304d75c2": {
          "model_module": "@jupyter-widgets/controls",
          "model_name": "HBoxModel",
          "model_module_version": "1.5.0",
          "state": {
            "_view_name": "HBoxView",
            "_dom_classes": [],
            "_model_name": "HBoxModel",
            "_view_module": "@jupyter-widgets/controls",
            "_model_module_version": "1.5.0",
            "_view_count": null,
            "_view_module_version": "1.5.0",
            "box_style": "",
            "layout": "IPY_MODEL_5fe9a79ba07c40609834a9ac5b580e0f",
            "_model_module": "@jupyter-widgets/controls",
            "children": [
              "IPY_MODEL_984648c900304431b6706c8c80a9f1b6",
              "IPY_MODEL_4246edac5321426589e9a63af85074a7",
              "IPY_MODEL_2f8313c207c74f95919249fea15896a0"
            ]
          }
        },
        "5fe9a79ba07c40609834a9ac5b580e0f": {
          "model_module": "@jupyter-widgets/base",
          "model_name": "LayoutModel",
          "model_module_version": "1.2.0",
          "state": {
            "_view_name": "LayoutView",
            "grid_template_rows": null,
            "right": null,
            "justify_content": null,
            "_view_module": "@jupyter-widgets/base",
            "overflow": null,
            "_model_module_version": "1.2.0",
            "_view_count": null,
            "flex_flow": null,
            "width": null,
            "min_width": null,
            "border": null,
            "align_items": null,
            "bottom": null,
            "_model_module": "@jupyter-widgets/base",
            "top": null,
            "grid_column": null,
            "overflow_y": null,
            "overflow_x": null,
            "grid_auto_flow": null,
            "grid_area": null,
            "grid_template_columns": null,
            "flex": null,
            "_model_name": "LayoutModel",
            "justify_items": null,
            "grid_row": null,
            "max_height": null,
            "align_content": null,
            "visibility": null,
            "align_self": null,
            "height": null,
            "min_height": null,
            "padding": null,
            "grid_auto_rows": null,
            "grid_gap": null,
            "max_width": null,
            "order": null,
            "_view_module_version": "1.2.0",
            "grid_template_areas": null,
            "object_position": null,
            "object_fit": null,
            "grid_auto_columns": null,
            "margin": null,
            "display": null,
            "left": null
          }
        },
        "984648c900304431b6706c8c80a9f1b6": {
          "model_module": "@jupyter-widgets/controls",
          "model_name": "HTMLModel",
          "model_module_version": "1.5.0",
          "state": {
            "_view_name": "HTMLView",
            "style": "IPY_MODEL_979b469c4b7b4b0d94881e8a4a0d76c7",
            "_dom_classes": [],
            "description": "",
            "_model_name": "HTMLModel",
            "placeholder": "​",
            "_view_module": "@jupyter-widgets/controls",
            "_model_module_version": "1.5.0",
            "value": "Downloading: 100%",
            "_view_count": null,
            "_view_module_version": "1.5.0",
            "description_tooltip": null,
            "_model_module": "@jupyter-widgets/controls",
            "layout": "IPY_MODEL_39f133d2e4ca405ea2b2da62b22549be"
          }
        },
        "4246edac5321426589e9a63af85074a7": {
          "model_module": "@jupyter-widgets/controls",
          "model_name": "FloatProgressModel",
          "model_module_version": "1.5.0",
          "state": {
            "_view_name": "ProgressView",
            "style": "IPY_MODEL_3a948fbe9b4541ed9bd3fad72ab935a5",
            "_dom_classes": [],
            "description": "",
            "_model_name": "FloatProgressModel",
            "bar_style": "success",
            "max": 806530,
            "_view_module": "@jupyter-widgets/controls",
            "_model_module_version": "1.5.0",
            "value": 806530,
            "_view_count": null,
            "_view_module_version": "1.5.0",
            "orientation": "horizontal",
            "min": 0,
            "description_tooltip": null,
            "_model_module": "@jupyter-widgets/controls",
            "layout": "IPY_MODEL_0fdccef5623e469b858987c53f04d037"
          }
        },
        "2f8313c207c74f95919249fea15896a0": {
          "model_module": "@jupyter-widgets/controls",
          "model_name": "HTMLModel",
          "model_module_version": "1.5.0",
          "state": {
            "_view_name": "HTMLView",
            "style": "IPY_MODEL_0f7637075a6a492f86041e28aa0f3027",
            "_dom_classes": [],
            "description": "",
            "_model_name": "HTMLModel",
            "placeholder": "​",
            "_view_module": "@jupyter-widgets/controls",
            "_model_module_version": "1.5.0",
            "value": " 788k/788k [00:00&lt;00:00, 837kB/s]",
            "_view_count": null,
            "_view_module_version": "1.5.0",
            "description_tooltip": null,
            "_model_module": "@jupyter-widgets/controls",
            "layout": "IPY_MODEL_ac09389bb63a45feb8257662e44d8f99"
          }
        },
        "979b469c4b7b4b0d94881e8a4a0d76c7": {
          "model_module": "@jupyter-widgets/controls",
          "model_name": "DescriptionStyleModel",
          "model_module_version": "1.5.0",
          "state": {
            "_view_name": "StyleView",
            "_model_name": "DescriptionStyleModel",
            "description_width": "",
            "_view_module": "@jupyter-widgets/base",
            "_model_module_version": "1.5.0",
            "_view_count": null,
            "_view_module_version": "1.2.0",
            "_model_module": "@jupyter-widgets/controls"
          }
        },
        "39f133d2e4ca405ea2b2da62b22549be": {
          "model_module": "@jupyter-widgets/base",
          "model_name": "LayoutModel",
          "model_module_version": "1.2.0",
          "state": {
            "_view_name": "LayoutView",
            "grid_template_rows": null,
            "right": null,
            "justify_content": null,
            "_view_module": "@jupyter-widgets/base",
            "overflow": null,
            "_model_module_version": "1.2.0",
            "_view_count": null,
            "flex_flow": null,
            "width": null,
            "min_width": null,
            "border": null,
            "align_items": null,
            "bottom": null,
            "_model_module": "@jupyter-widgets/base",
            "top": null,
            "grid_column": null,
            "overflow_y": null,
            "overflow_x": null,
            "grid_auto_flow": null,
            "grid_area": null,
            "grid_template_columns": null,
            "flex": null,
            "_model_name": "LayoutModel",
            "justify_items": null,
            "grid_row": null,
            "max_height": null,
            "align_content": null,
            "visibility": null,
            "align_self": null,
            "height": null,
            "min_height": null,
            "padding": null,
            "grid_auto_rows": null,
            "grid_gap": null,
            "max_width": null,
            "order": null,
            "_view_module_version": "1.2.0",
            "grid_template_areas": null,
            "object_position": null,
            "object_fit": null,
            "grid_auto_columns": null,
            "margin": null,
            "display": null,
            "left": null
          }
        },
        "3a948fbe9b4541ed9bd3fad72ab935a5": {
          "model_module": "@jupyter-widgets/controls",
          "model_name": "ProgressStyleModel",
          "model_module_version": "1.5.0",
          "state": {
            "_view_name": "StyleView",
            "_model_name": "ProgressStyleModel",
            "description_width": "",
            "_view_module": "@jupyter-widgets/base",
            "_model_module_version": "1.5.0",
            "_view_count": null,
            "_view_module_version": "1.2.0",
            "bar_color": null,
            "_model_module": "@jupyter-widgets/controls"
          }
        },
        "0fdccef5623e469b858987c53f04d037": {
          "model_module": "@jupyter-widgets/base",
          "model_name": "LayoutModel",
          "model_module_version": "1.2.0",
          "state": {
            "_view_name": "LayoutView",
            "grid_template_rows": null,
            "right": null,
            "justify_content": null,
            "_view_module": "@jupyter-widgets/base",
            "overflow": null,
            "_model_module_version": "1.2.0",
            "_view_count": null,
            "flex_flow": null,
            "width": null,
            "min_width": null,
            "border": null,
            "align_items": null,
            "bottom": null,
            "_model_module": "@jupyter-widgets/base",
            "top": null,
            "grid_column": null,
            "overflow_y": null,
            "overflow_x": null,
            "grid_auto_flow": null,
            "grid_area": null,
            "grid_template_columns": null,
            "flex": null,
            "_model_name": "LayoutModel",
            "justify_items": null,
            "grid_row": null,
            "max_height": null,
            "align_content": null,
            "visibility": null,
            "align_self": null,
            "height": null,
            "min_height": null,
            "padding": null,
            "grid_auto_rows": null,
            "grid_gap": null,
            "max_width": null,
            "order": null,
            "_view_module_version": "1.2.0",
            "grid_template_areas": null,
            "object_position": null,
            "object_fit": null,
            "grid_auto_columns": null,
            "margin": null,
            "display": null,
            "left": null
          }
        },
        "0f7637075a6a492f86041e28aa0f3027": {
          "model_module": "@jupyter-widgets/controls",
          "model_name": "DescriptionStyleModel",
          "model_module_version": "1.5.0",
          "state": {
            "_view_name": "StyleView",
            "_model_name": "DescriptionStyleModel",
            "description_width": "",
            "_view_module": "@jupyter-widgets/base",
            "_model_module_version": "1.5.0",
            "_view_count": null,
            "_view_module_version": "1.2.0",
            "_model_module": "@jupyter-widgets/controls"
          }
        },
        "ac09389bb63a45feb8257662e44d8f99": {
          "model_module": "@jupyter-widgets/base",
          "model_name": "LayoutModel",
          "model_module_version": "1.2.0",
          "state": {
            "_view_name": "LayoutView",
            "grid_template_rows": null,
            "right": null,
            "justify_content": null,
            "_view_module": "@jupyter-widgets/base",
            "overflow": null,
            "_model_module_version": "1.2.0",
            "_view_count": null,
            "flex_flow": null,
            "width": null,
            "min_width": null,
            "border": null,
            "align_items": null,
            "bottom": null,
            "_model_module": "@jupyter-widgets/base",
            "top": null,
            "grid_column": null,
            "overflow_y": null,
            "overflow_x": null,
            "grid_auto_flow": null,
            "grid_area": null,
            "grid_template_columns": null,
            "flex": null,
            "_model_name": "LayoutModel",
            "justify_items": null,
            "grid_row": null,
            "max_height": null,
            "align_content": null,
            "visibility": null,
            "align_self": null,
            "height": null,
            "min_height": null,
            "padding": null,
            "grid_auto_rows": null,
            "grid_gap": null,
            "max_width": null,
            "order": null,
            "_view_module_version": "1.2.0",
            "grid_template_areas": null,
            "object_position": null,
            "object_fit": null,
            "grid_auto_columns": null,
            "margin": null,
            "display": null,
            "left": null
          }
        },
        "4ef3d64b96a049be8416ca8f5d4d3055": {
          "model_module": "@jupyter-widgets/controls",
          "model_name": "HBoxModel",
          "model_module_version": "1.5.0",
          "state": {
            "_view_name": "HBoxView",
            "_dom_classes": [],
            "_model_name": "HBoxModel",
            "_view_module": "@jupyter-widgets/controls",
            "_model_module_version": "1.5.0",
            "_view_count": null,
            "_view_module_version": "1.5.0",
            "box_style": "",
            "layout": "IPY_MODEL_f62942d6c4db4ee394d82121c98030ca",
            "_model_module": "@jupyter-widgets/controls",
            "children": [
              "IPY_MODEL_aa2c38d4ed2d44ae96bd3d63bf06a0a3",
              "IPY_MODEL_c5a4225c51c54863a1abf7ca4cdb1eb6",
              "IPY_MODEL_0abedddca90e4f2dba4fa6ae7f722f89"
            ]
          }
        },
        "f62942d6c4db4ee394d82121c98030ca": {
          "model_module": "@jupyter-widgets/base",
          "model_name": "LayoutModel",
          "model_module_version": "1.2.0",
          "state": {
            "_view_name": "LayoutView",
            "grid_template_rows": null,
            "right": null,
            "justify_content": null,
            "_view_module": "@jupyter-widgets/base",
            "overflow": null,
            "_model_module_version": "1.2.0",
            "_view_count": null,
            "flex_flow": null,
            "width": null,
            "min_width": null,
            "border": null,
            "align_items": null,
            "bottom": null,
            "_model_module": "@jupyter-widgets/base",
            "top": null,
            "grid_column": null,
            "overflow_y": null,
            "overflow_x": null,
            "grid_auto_flow": null,
            "grid_area": null,
            "grid_template_columns": null,
            "flex": null,
            "_model_name": "LayoutModel",
            "justify_items": null,
            "grid_row": null,
            "max_height": null,
            "align_content": null,
            "visibility": null,
            "align_self": null,
            "height": null,
            "min_height": null,
            "padding": null,
            "grid_auto_rows": null,
            "grid_gap": null,
            "max_width": null,
            "order": null,
            "_view_module_version": "1.2.0",
            "grid_template_areas": null,
            "object_position": null,
            "object_fit": null,
            "grid_auto_columns": null,
            "margin": null,
            "display": null,
            "left": null
          }
        },
        "aa2c38d4ed2d44ae96bd3d63bf06a0a3": {
          "model_module": "@jupyter-widgets/controls",
          "model_name": "HTMLModel",
          "model_module_version": "1.5.0",
          "state": {
            "_view_name": "HTMLView",
            "style": "IPY_MODEL_dcad0bb8b9db4faa8b77364cea83a082",
            "_dom_classes": [],
            "description": "",
            "_model_name": "HTMLModel",
            "placeholder": "​",
            "_view_module": "@jupyter-widgets/controls",
            "_model_module_version": "1.5.0",
            "value": "Downloading: 100%",
            "_view_count": null,
            "_view_module_version": "1.5.0",
            "description_tooltip": null,
            "_model_module": "@jupyter-widgets/controls",
            "layout": "IPY_MODEL_c5ba68faf33f480da11e4a52fa22fd53"
          }
        },
        "c5a4225c51c54863a1abf7ca4cdb1eb6": {
          "model_module": "@jupyter-widgets/controls",
          "model_name": "FloatProgressModel",
          "model_module_version": "1.5.0",
          "state": {
            "_view_name": "ProgressView",
            "style": "IPY_MODEL_6639a1efef0247098330e9189326adc6",
            "_dom_classes": [],
            "description": "",
            "_model_name": "FloatProgressModel",
            "bar_style": "success",
            "max": 1617902,
            "_view_module": "@jupyter-widgets/controls",
            "_model_module_version": "1.5.0",
            "value": 1617902,
            "_view_count": null,
            "_view_module_version": "1.5.0",
            "orientation": "horizontal",
            "min": 0,
            "description_tooltip": null,
            "_model_module": "@jupyter-widgets/controls",
            "layout": "IPY_MODEL_cf236029c69946c1bb98c38318c488af"
          }
        },
        "0abedddca90e4f2dba4fa6ae7f722f89": {
          "model_module": "@jupyter-widgets/controls",
          "model_name": "HTMLModel",
          "model_module_version": "1.5.0",
          "state": {
            "_view_name": "HTMLView",
            "style": "IPY_MODEL_5b22edb7130047288a6b78d395d3cade",
            "_dom_classes": [],
            "description": "",
            "_model_name": "HTMLModel",
            "placeholder": "​",
            "_view_module": "@jupyter-widgets/controls",
            "_model_module_version": "1.5.0",
            "value": " 1.54M/1.54M [00:00&lt;00:00, 2.85MB/s]",
            "_view_count": null,
            "_view_module_version": "1.5.0",
            "description_tooltip": null,
            "_model_module": "@jupyter-widgets/controls",
            "layout": "IPY_MODEL_8868476425ea426aa24cc87dbc822607"
          }
        },
        "dcad0bb8b9db4faa8b77364cea83a082": {
          "model_module": "@jupyter-widgets/controls",
          "model_name": "DescriptionStyleModel",
          "model_module_version": "1.5.0",
          "state": {
            "_view_name": "StyleView",
            "_model_name": "DescriptionStyleModel",
            "description_width": "",
            "_view_module": "@jupyter-widgets/base",
            "_model_module_version": "1.5.0",
            "_view_count": null,
            "_view_module_version": "1.2.0",
            "_model_module": "@jupyter-widgets/controls"
          }
        },
        "c5ba68faf33f480da11e4a52fa22fd53": {
          "model_module": "@jupyter-widgets/base",
          "model_name": "LayoutModel",
          "model_module_version": "1.2.0",
          "state": {
            "_view_name": "LayoutView",
            "grid_template_rows": null,
            "right": null,
            "justify_content": null,
            "_view_module": "@jupyter-widgets/base",
            "overflow": null,
            "_model_module_version": "1.2.0",
            "_view_count": null,
            "flex_flow": null,
            "width": null,
            "min_width": null,
            "border": null,
            "align_items": null,
            "bottom": null,
            "_model_module": "@jupyter-widgets/base",
            "top": null,
            "grid_column": null,
            "overflow_y": null,
            "overflow_x": null,
            "grid_auto_flow": null,
            "grid_area": null,
            "grid_template_columns": null,
            "flex": null,
            "_model_name": "LayoutModel",
            "justify_items": null,
            "grid_row": null,
            "max_height": null,
            "align_content": null,
            "visibility": null,
            "align_self": null,
            "height": null,
            "min_height": null,
            "padding": null,
            "grid_auto_rows": null,
            "grid_gap": null,
            "max_width": null,
            "order": null,
            "_view_module_version": "1.2.0",
            "grid_template_areas": null,
            "object_position": null,
            "object_fit": null,
            "grid_auto_columns": null,
            "margin": null,
            "display": null,
            "left": null
          }
        },
        "6639a1efef0247098330e9189326adc6": {
          "model_module": "@jupyter-widgets/controls",
          "model_name": "ProgressStyleModel",
          "model_module_version": "1.5.0",
          "state": {
            "_view_name": "StyleView",
            "_model_name": "ProgressStyleModel",
            "description_width": "",
            "_view_module": "@jupyter-widgets/base",
            "_model_module_version": "1.5.0",
            "_view_count": null,
            "_view_module_version": "1.2.0",
            "bar_color": null,
            "_model_module": "@jupyter-widgets/controls"
          }
        },
        "cf236029c69946c1bb98c38318c488af": {
          "model_module": "@jupyter-widgets/base",
          "model_name": "LayoutModel",
          "model_module_version": "1.2.0",
          "state": {
            "_view_name": "LayoutView",
            "grid_template_rows": null,
            "right": null,
            "justify_content": null,
            "_view_module": "@jupyter-widgets/base",
            "overflow": null,
            "_model_module_version": "1.2.0",
            "_view_count": null,
            "flex_flow": null,
            "width": null,
            "min_width": null,
            "border": null,
            "align_items": null,
            "bottom": null,
            "_model_module": "@jupyter-widgets/base",
            "top": null,
            "grid_column": null,
            "overflow_y": null,
            "overflow_x": null,
            "grid_auto_flow": null,
            "grid_area": null,
            "grid_template_columns": null,
            "flex": null,
            "_model_name": "LayoutModel",
            "justify_items": null,
            "grid_row": null,
            "max_height": null,
            "align_content": null,
            "visibility": null,
            "align_self": null,
            "height": null,
            "min_height": null,
            "padding": null,
            "grid_auto_rows": null,
            "grid_gap": null,
            "max_width": null,
            "order": null,
            "_view_module_version": "1.2.0",
            "grid_template_areas": null,
            "object_position": null,
            "object_fit": null,
            "grid_auto_columns": null,
            "margin": null,
            "display": null,
            "left": null
          }
        },
        "5b22edb7130047288a6b78d395d3cade": {
          "model_module": "@jupyter-widgets/controls",
          "model_name": "DescriptionStyleModel",
          "model_module_version": "1.5.0",
          "state": {
            "_view_name": "StyleView",
            "_model_name": "DescriptionStyleModel",
            "description_width": "",
            "_view_module": "@jupyter-widgets/base",
            "_model_module_version": "1.5.0",
            "_view_count": null,
            "_view_module_version": "1.2.0",
            "_model_module": "@jupyter-widgets/controls"
          }
        },
        "8868476425ea426aa24cc87dbc822607": {
          "model_module": "@jupyter-widgets/base",
          "model_name": "LayoutModel",
          "model_module_version": "1.2.0",
          "state": {
            "_view_name": "LayoutView",
            "grid_template_rows": null,
            "right": null,
            "justify_content": null,
            "_view_module": "@jupyter-widgets/base",
            "overflow": null,
            "_model_module_version": "1.2.0",
            "_view_count": null,
            "flex_flow": null,
            "width": null,
            "min_width": null,
            "border": null,
            "align_items": null,
            "bottom": null,
            "_model_module": "@jupyter-widgets/base",
            "top": null,
            "grid_column": null,
            "overflow_y": null,
            "overflow_x": null,
            "grid_auto_flow": null,
            "grid_area": null,
            "grid_template_columns": null,
            "flex": null,
            "_model_name": "LayoutModel",
            "justify_items": null,
            "grid_row": null,
            "max_height": null,
            "align_content": null,
            "visibility": null,
            "align_self": null,
            "height": null,
            "min_height": null,
            "padding": null,
            "grid_auto_rows": null,
            "grid_gap": null,
            "max_width": null,
            "order": null,
            "_view_module_version": "1.2.0",
            "grid_template_areas": null,
            "object_position": null,
            "object_fit": null,
            "grid_auto_columns": null,
            "margin": null,
            "display": null,
            "left": null
          }
        }
      }
    }
  },
  "cells": [
    {
      "cell_type": "code",
      "source": [
        "!pip install transformers[all]"
      ],
      "metadata": {
        "id": "U4XEtu5LxFpi",
        "colab": {
          "base_uri": "https://localhost:8080/"
        },
        "outputId": "013a0fc6-09f0-4ee6-9f01-f811cfe82d7b"
      },
      "execution_count": null,
      "outputs": [
        {
          "output_type": "stream",
          "name": "stdout",
          "text": [
            "Successfully installed APScheduler-3.8.1 GitPython-3.1.25 Mako-1.1.6 alembic-1.7.5 autopage-0.4.0 backports.zoneinfo-0.2.1 brotli-1.0.9 chex-0.1.0 cliff-3.10.0 clldutils-3.10.1 cmaes-0.8.2 cmd2-2.3.3 codecarbon-1.2.0 colorlog-6.6.0 csvw-1.11.0 dash-2.0.0 dash-bootstrap-components-1.0.2 dash-core-components-2.0.0 dash-html-components-2.0.0 dash-table-5.0.0 deprecated-1.2.13 dlinfo-1.2.1 fire-0.4.0 flask-compress-1.10.1 flax-0.3.6 gitdb-4.0.9 huggingface-hub-0.2.1 hypothesis-6.35.0 isodate-0.6.1 keras2onnx-1.7.0 onnx-1.10.2 onnxconverter-common-1.9.0 optax-0.1.0 optuna-2.10.0 pbr-5.8.0 phonemizer-3.0.1 plotly-5.5.0 py-cpuinfo-8.0.0 pyctcdecode-0.2.1 pygtrie-2.4.2 pynvml-11.4.1 pyperclip-1.8.2 pypng-0.0.21 pytz-deprecation-shim-0.1.0.post0 pyyaml-6.0 ray-1.9.1 redis-4.1.0 rfc3986-1.5.0 sacremoses-0.0.46 segments-2.2.0 sentencepiece-0.1.96 sigopt-7.5.0 smmap-5.0.0 stevedore-3.5.0 tenacity-8.0.1 tensorboardX-2.4.1 timm-0.4.12 tokenizers-0.10.3 transformers-4.15.0 tzdata-2021.5 tzlocal-4.1\n"
          ]
        }
      ]
    },
    {
      "cell_type": "code",
      "source": [
        "!pip install sentencepiece"
      ],
      "metadata": {
        "colab": {
          "base_uri": "https://localhost:8080/"
        },
        "id": "9L1IpLb5xXOD",
        "outputId": "cee73824-7c6f-4bbb-d1b8-25592b660949"
      },
      "execution_count": null,
      "outputs": [
        {
          "output_type": "stream",
          "name": "stdout",
          "text": [
            "Requirement already satisfied: sentencepiece in /usr/local/lib/python3.7/dist-packages (0.1.96)\n"
          ]
        }
      ]
    },
    {
      "cell_type": "code",
      "source": [
        "!pip install transformers[sentencepiece]\n"
      ],
      "metadata": {
        "id": "4h8NBarkyId0"
      },
      "execution_count": null,
      "outputs": []
    },
    {
      "cell_type": "code",
      "source": [
        "ch_text = '//// <!-- hello 我叫萨拉，我住在伦敦。--> //'"
      ],
      "metadata": {
        "id": "qZDMub-t6Kah"
      },
      "execution_count": null,
      "outputs": []
    },
    {
      "cell_type": "code",
      "source": [
        "!pip install 'pandas == 1.3.5'"
      ],
      "metadata": {
        "id": "5aB9YvIIF89Q"
      },
      "execution_count": null,
      "outputs": []
    },
    {
      "cell_type": "code",
      "source": [
        "replace_text('第三步，md5(第二步结果)')"
      ],
      "metadata": {
        "colab": {
          "base_uri": "https://localhost:8080/",
          "height": 35
        },
        "id": "RLGL81qg6-jo",
        "outputId": "301f2b26-97a0-4a83-b9f2-ae8b8bfdd14f"
      },
      "execution_count": 130,
      "outputs": [
        {
          "output_type": "execute_result",
          "data": {
            "application/vnd.google.colaboratory.intrinsic+json": {
              "type": "string"
            },
            "text/plain": [
              "'Step 3, md5 (step 2 outcome)'"
            ]
          },
          "metadata": {},
          "execution_count": 130
        }
      ]
    },
    {
      "cell_type": "markdown",
      "source": [
        "## Code\n"
      ],
      "metadata": {
        "id": "WIuPBnMhdApE"
      }
    },
    {
      "cell_type": "code",
      "source": [
        "!pip install python-magic"
      ],
      "metadata": {
        "id": "_bbaQet7f_lY"
      },
      "execution_count": null,
      "outputs": []
    },
    {
      "cell_type": "code",
      "source": [
        "!sudo apt-get install libmagic1"
      ],
      "metadata": {
        "id": "ND-rSl4ohwht"
      },
      "execution_count": null,
      "outputs": []
    },
    {
      "cell_type": "code",
      "source": [
        "import subprocess as sub"
      ],
      "metadata": {
        "id": "hrUwflOujvyO"
      },
      "execution_count": null,
      "outputs": []
    },
    {
      "cell_type": "code",
      "source": [
        "from transformers import AutoTokenizer, AutoModelForSeq2SeqLM, pipeline\n",
        "#import magic\n",
        "#import shlex\n",
        "import os\n",
        "import re\n",
        "import pickle\n",
        "import fileinput\n",
        "import sys\n",
        "import xml.etree.ElementTree as ET\n",
        "import pandas as pd\n",
        "from bs4 import BeautifulSoup\n"
      ],
      "metadata": {
        "id": "-Tw00Vo4eUmp"
      },
      "execution_count": null,
      "outputs": []
    },
    {
      "cell_type": "markdown",
      "source": [
        "### Load model once and use it  "
      ],
      "metadata": {
        "id": "J3aFzSdbdkT4"
      }
    },
    {
      "cell_type": "code",
      "source": [
        "zh2en_model = AutoModelForSeq2SeqLM.from_pretrained('Helsinki-NLP/opus-mt-zh-en')\n",
        "zh2en_tokenizer = AutoTokenizer.from_pretrained('Helsinki-NLP/opus-mt-zh-en')\n",
        "\n",
        "saved_model = pickle.dumps(zh2en_model)\n",
        "saved_tokenizer = pickle.dumps(zh2en_tokenizer)"
      ],
      "metadata": {
        "id": "kDeFrcwq8xxf",
        "colab": {
          "base_uri": "https://localhost:8080/",
          "referenced_widgets": [
            "b5e2f0405eb04036a91e67fd9d81c960",
            "f1a3211fae074361859fe42f180d4476",
            "8317edf8961548fbae98db98fa2d997b",
            "95f33112cc0349a89a22ad44368afcd9",
            "4744c62415154da697e23c5dd021bbdf",
            "ae3026355f294cc7b3b61821b54b8b07",
            "cf7f85e6c2e4464fa760989d353dd3d9",
            "2e8af1e71bb048f194c11414f9925dcd",
            "2b1097646c7941fe8accf91bdbe24328",
            "d270ffffb91843aebe2d27ac8c4da24d",
            "091711fbc4084f91b9caaa9f762b17aa",
            "a9576b513e4e4d68808784629cf5c26d",
            "eafc31e3b4c24ebf8f20d0942f31b149",
            "6bd3e708693549b785e9d133ea96b85d",
            "dba695fceb554d76ab404dd4a25e9c30",
            "5cdfc93f504a4bdca321fcdc680ca6dd",
            "d0d7bc73591b474da9b5b6d70a55482b",
            "ffcdae0a924c443a993f01633d982676",
            "4185d27f7b424fedbe8e3d907d5079b6",
            "6cb313e23df248329ae196a6f27a03e6",
            "85e95fe37ae443018f5dbcdefa71fe95",
            "659438f9356944c8b7d07ce72767358e",
            "ef42260b913f4460b5ab0c7e899598a4",
            "9466422534894fcbb32a1fed6739aa9e",
            "e20750c0e71c419ea1ecac4ddff242b7",
            "36f94f8badcd4ef98c8c2591323f5879",
            "942642c517d4401b948046ace94c91d0",
            "64e5db058fed4fa8ad967a6f6353d751",
            "4821acc7b8204506bb8c0afea42f6148",
            "9861a9cea7254f22a4d874b4c59ac037",
            "bba51c42494c4e4f9324319da1a96cc3",
            "3b4c26f9885e40c199787fd8e287a2f0",
            "85358a8d18774641add9495b284500a1",
            "b6b8b548fa904a2ba1edabe5a8ca3954",
            "5ca6f2c5b01e43628ae85a9330a0d3fc",
            "403f390ff5cb4f97bbe0a578b250156a",
            "4d13b334e63e431caaf0ea7585fe9e0b",
            "189fa99a1672407fb7bdfc1327da71cd",
            "7504b8c3e0054b5081e851e541d8ba96",
            "828e171f68bf49ebb244151a54b76a54",
            "cb11d6f1598f48a7b2c142a54dd33a5f",
            "62d01c6ce6184ce4a0148ca86de2f24e",
            "e72911997d47493baec19b65942e131e",
            "dec303b80efb4f758ab228533b400f78",
            "a23268f8ee784a4f844ad868304d75c2",
            "5fe9a79ba07c40609834a9ac5b580e0f",
            "984648c900304431b6706c8c80a9f1b6",
            "4246edac5321426589e9a63af85074a7",
            "2f8313c207c74f95919249fea15896a0",
            "979b469c4b7b4b0d94881e8a4a0d76c7",
            "39f133d2e4ca405ea2b2da62b22549be",
            "3a948fbe9b4541ed9bd3fad72ab935a5",
            "0fdccef5623e469b858987c53f04d037",
            "0f7637075a6a492f86041e28aa0f3027",
            "ac09389bb63a45feb8257662e44d8f99",
            "4ef3d64b96a049be8416ca8f5d4d3055",
            "f62942d6c4db4ee394d82121c98030ca",
            "aa2c38d4ed2d44ae96bd3d63bf06a0a3",
            "c5a4225c51c54863a1abf7ca4cdb1eb6",
            "0abedddca90e4f2dba4fa6ae7f722f89",
            "dcad0bb8b9db4faa8b77364cea83a082",
            "c5ba68faf33f480da11e4a52fa22fd53",
            "6639a1efef0247098330e9189326adc6",
            "cf236029c69946c1bb98c38318c488af",
            "5b22edb7130047288a6b78d395d3cade",
            "8868476425ea426aa24cc87dbc822607"
          ]
        },
        "outputId": "1cb45ce2-eaee-4b64-dbf2-7e1a154ae32f"
      },
      "execution_count": null,
      "outputs": [
        {
          "output_type": "display_data",
          "data": {
            "application/vnd.jupyter.widget-view+json": {
              "model_id": "b5e2f0405eb04036a91e67fd9d81c960",
              "version_minor": 0,
              "version_major": 2
            },
            "text/plain": [
              "Downloading:   0%|          | 0.00/1.12k [00:00<?, ?B/s]"
            ]
          },
          "metadata": {}
        },
        {
          "output_type": "display_data",
          "data": {
            "application/vnd.jupyter.widget-view+json": {
              "model_id": "a9576b513e4e4d68808784629cf5c26d",
              "version_minor": 0,
              "version_major": 2
            },
            "text/plain": [
              "Downloading:   0%|          | 0.00/298M [00:00<?, ?B/s]"
            ]
          },
          "metadata": {}
        },
        {
          "output_type": "display_data",
          "data": {
            "application/vnd.jupyter.widget-view+json": {
              "model_id": "ef42260b913f4460b5ab0c7e899598a4",
              "version_minor": 0,
              "version_major": 2
            },
            "text/plain": [
              "Downloading:   0%|          | 0.00/44.0 [00:00<?, ?B/s]"
            ]
          },
          "metadata": {}
        },
        {
          "output_type": "display_data",
          "data": {
            "application/vnd.jupyter.widget-view+json": {
              "model_id": "b6b8b548fa904a2ba1edabe5a8ca3954",
              "version_minor": 0,
              "version_major": 2
            },
            "text/plain": [
              "Downloading:   0%|          | 0.00/786k [00:00<?, ?B/s]"
            ]
          },
          "metadata": {}
        },
        {
          "output_type": "display_data",
          "data": {
            "application/vnd.jupyter.widget-view+json": {
              "model_id": "a23268f8ee784a4f844ad868304d75c2",
              "version_minor": 0,
              "version_major": 2
            },
            "text/plain": [
              "Downloading:   0%|          | 0.00/788k [00:00<?, ?B/s]"
            ]
          },
          "metadata": {}
        },
        {
          "output_type": "display_data",
          "data": {
            "application/vnd.jupyter.widget-view+json": {
              "model_id": "4ef3d64b96a049be8416ca8f5d4d3055",
              "version_minor": 0,
              "version_major": 2
            },
            "text/plain": [
              "Downloading:   0%|          | 0.00/1.54M [00:00<?, ?B/s]"
            ]
          },
          "metadata": {}
        }
      ]
    },
    {
      "cell_type": "markdown",
      "source": [
        "## Model Cells"
      ],
      "metadata": {
        "id": "7tGgnKCE_7D_"
      }
    },
    {
      "cell_type": "markdown",
      "source": [
        "### Translate chinese text using saved model "
      ],
      "metadata": {
        "id": "RaaM04m8dx65"
      }
    },
    {
      "cell_type": "code",
      "source": [
        "def translate_text(ch_text):\n",
        "  \"\"\"\n",
        "  pass your chinese text and it returns its english translation \n",
        "  \"\"\"\n",
        "\n",
        "  zh2en_model = pickle.loads(saved_model)\n",
        "  zh2en_tokenizer = pickle.loads(saved_tokenizer)\n",
        "  zh2en_translation = pipeline('translation_zh_to_en', \n",
        "                      model=zh2en_model, \n",
        "                      tokenizer=zh2en_tokenizer)\n",
        "  return zh2en_translation(ch_text)"
      ],
      "metadata": {
        "id": "pNE7zAAjW04M"
      },
      "execution_count": null,
      "outputs": []
    },
    {
      "cell_type": "code",
      "source": [
        "translate_text(ch_text)"
      ],
      "metadata": {
        "colab": {
          "base_uri": "https://localhost:8080/"
        },
        "id": "LUTWFRSfGBLX",
        "outputId": "674b38c4-0b82-496c-c3c3-bafc383a1ebb"
      },
      "execution_count": null,
      "outputs": [
        {
          "output_type": "execute_result",
          "data": {
            "text/plain": [
              "[{'translation_text': \"/// <! > - Hello, I'm Sarah, I live in London.\"}]"
            ]
          },
          "metadata": {},
          "execution_count": 24
        }
      ]
    },
    {
      "cell_type": "markdown",
      "source": [
        "### get type of file to detect its comment character (NOT USED)\n",
        "\n",
        "*will be better if it detects file type by its content not its name and extension*"
      ],
      "metadata": {
        "id": "QUBWkGIqd_qk"
      }
    },
    {
      "cell_type": "code",
      "source": [
        "def get_type_of_file(data_path):\n",
        "  \"\"\"\n",
        "  pass file path with its .format otherwise it faces some problems\n",
        "  \"\"\"\n",
        "  try:\n",
        "    #return magic.Magic().from_file(data_path)   \n",
        "    #\n",
        "    # p = sub.Popen(data_path , stdout=sub.PIPE, stderr=sub.PIPE)\n",
        "    # output, errors = p.communicate()\n",
        "    #\n",
        "    # filename = data_path\n",
        "    # cmd = shlex.split('file --mime-type {0}'.format(filename))\n",
        "    # result = sub.check_output(cmd)\n",
        "    # mime_type = result.split()[-1]\n",
        "    # return mime_type\n",
        "    file_name, file_extension = os.path.splitext(data_path)\n",
        "    return file_extension\n",
        "  except IOError:\n",
        "    return 'No File Found'"
      ],
      "metadata": {
        "id": "n3McQzn-_m6i"
      },
      "execution_count": null,
      "outputs": []
    },
    {
      "cell_type": "code",
      "source": [
        "def get_index_of_chinese_text(file):\n",
        "  pass"
      ],
      "metadata": {
        "id": "j46QElLUvbFV"
      },
      "execution_count": null,
      "outputs": []
    },
    {
      "cell_type": "markdown",
      "source": [
        "### Define a dictionary of file type and its comment character"
      ],
      "metadata": {
        "id": "0LivJNuAeI9z"
      }
    },
    {
      "cell_type": "code",
      "source": [
        "comment_format_start = {'html':['<!--'],'htm':['<!--'],'xml':['<!--'],'js':['//','/*'],'java':['/*','//'],'py':['#'],\n",
        "                        'vue':['<!--','/*','//'],'css':['/*','//'],'scss':['/*','//']}\n",
        "comment_format_end = {'html':'-->','htm':'-->','xml':'-->','js':'*/','vue':['-->','*/'],'css':'*/','scss':'*/','java':'*/'}\n"
      ],
      "metadata": {
        "id": "JijWS7zXeiyi"
      },
      "execution_count": 85,
      "outputs": []
    },
    {
      "cell_type": "markdown",
      "source": [
        "### Searches for chinese characters and returns a modified translated same text "
      ],
      "metadata": {
        "id": "hoQrP6IneYjv"
      }
    },
    {
      "cell_type": "code",
      "source": [
        "def replace_text(line):\n",
        "  \"\"\"\n",
        "  pass line you want to change and the text before to replace new line \n",
        "  in new text\n",
        "  \"\"\"\n",
        "\n",
        "  if re.search('[\\u4e00-\\u9fff]',line) != None:\n",
        "    #line = line.replace('Hello', 'import')\n",
        "    #sys.stdout.write(line)\n",
        "\n",
        "    changes = line.replace(line, translate_text(line)[0]['translation_text'])\n",
        "    return changes \n",
        "\n",
        "  else:\n",
        "    return line "
      ],
      "metadata": {
        "id": "eF9XM4oKpsBf"
      },
      "execution_count": null,
      "outputs": []
    },
    {
      "cell_type": "markdown",
      "source": [
        "### Parse Python Files"
      ],
      "metadata": {
        "id": "9_pB2nqxgIvG"
      }
    },
    {
      "cell_type": "code",
      "source": [
        "def parse_python(f,replacement):\n",
        "  closed = True\n",
        "  for line in f.readlines():\n",
        "    #print(line)\n",
        "    if closed:\n",
        "    \n",
        "      if line.strip().startswith('#') :\n",
        "        replacement.append(\"#\" + replace_text(line.split('#')[1])) \n",
        "\n",
        "      if len(line.strip().split('#'))>1 and line.strip().split('#')[0] != \"\" :\n",
        "        replacement.append(line.strip().split('#')[0]+\"{}\".format('#')+replace_text(line.strip().split('#')[1]))\n",
        "\n",
        "      if line.strip().startswith('\"\"\"') :\n",
        "        closed = False\n",
        "        if line.strip().endswith('\"\"\"') and len(line.split('\"\"\"'))>2:\n",
        "          #print(line)\n",
        "          #replacement.append('\"\"\"' +replace_text( line.strip().split('\"\"\"')[1] )+ '\"\"\"')\n",
        "          replacement.append(re.findall(\"^ *\",line)[0]+'\"\"\"\\n' +re.findall(\"^ *\",line)[0] + replace_text( line.strip().split('\"\"\"')[1] )+ \n",
        "                             '\\n'+re.findall(\"^ *\",line)[0] + '\"\"\"\\n')\n",
        "          #print('here')\n",
        "          closed = True\n",
        "        else:\n",
        "          replacement.append(line)\n",
        "        \n",
        "      #\n",
        "      \n",
        "      #re.findall(\"\"\"(['\"])(?:(?=(\\\\?))\\2([\\u4e00-\\u9fff\\d\\s\\W]))*?\\1\"\"\",'df_arts[\"考室30---+-号56451\"    \" 考 2 zzz  135 \"] = \"号abc\"')\n",
        "\n",
        "      #if line.strip().startswith('\\'') :\n",
        "        #replacement.append('\\'' + replace_text(line.split('\\'')[1]))\n",
        "        #while line.find('\\'') == -1:\n",
        "         # replacement.append(replace_text(line.split('\\'')[1]))\n",
        "\n",
        "        #replacement.append( replace_text(line.split('\\'')[1])+'\\'' )\n",
        "\n",
        "        \n",
        "      #if line.strip().startswith('\\\"') :\n",
        "        #replacement.append('\\\"' + replace_text(line.split('\\\"')[1]))\n",
        "        #while line.find('\\\"') == -1:\n",
        "         # replacement.append(replace_text(line.split('\\\"')[1]))\n",
        "\n",
        "        #replacement.append( replace_text(line.split('\\\"')[1])+'\\\"' )\n",
        "\n",
        "      else:\n",
        "        replacement.append(line)\n",
        "\n",
        "    else:\n",
        "      #should i add this?\n",
        "      #replacement.append( replace_text(line.split('\"\"\"')[1])+'\"\"\"' )\n",
        "      #print('Im here')\n",
        "      replacement.append(replace_text(line)+'\\n')\n",
        "      if line.strip().startswith('\"\"\"') or line.strip().endswith('\"\"\"'):\n",
        "        #print('im here')\n",
        "        closed = True\n",
        "\n",
        "  return replacement\n"
      ],
      "metadata": {
        "id": "oHI-Tw4LYTt2"
      },
      "execution_count": null,
      "outputs": []
    },
    {
      "cell_type": "markdown",
      "source": [
        "### Parse XML"
      ],
      "metadata": {
        "id": "TFSEynZp5XcU"
      }
    },
    {
      "cell_type": "code",
      "source": [
        "import xml.etree.ElementTree as ET"
      ],
      "metadata": {
        "id": "n98sKmTl5t6X"
      },
      "execution_count": null,
      "outputs": []
    },
    {
      "cell_type": "code",
      "source": [
        "def parse_xml(f,replacement):\n",
        "  # tree = ET.parse(f)\n",
        "  # root = tree.getroot()\n",
        "  # newsitems = []\n",
        "\n",
        "\n",
        "  #df = pd.read_xml(f, xpath=\"./context/message/source\")\n",
        "  #df\n",
        "  \n",
        "    # iterate news items\n",
        "  # for item in root.findall('./context/message/source'):\n",
        "  #   #print(item)\n",
        "  #   for child in item:\n",
        "  #     print(child)\n",
        "\n",
        "  #     # empty news dictionary\n",
        "  #     news = {}\n",
        "\n",
        "  #     # iterate child elements of item\n",
        "  #     for child in item:\n",
        "\n",
        "  #         # special checking for namespace object content:media\n",
        "  #         if child.tag == '{http://search.yahoo.com/mrss/}content':\n",
        "  #             news['media'] = child.attrib['url']\n",
        "  #         else:\n",
        "  #             news[child.tag] = child.text.encode('utf8')\n",
        "\n",
        "  #     # append news dictionary to news items list\n",
        "  #     newsitems.append(news)\n",
        "    \n",
        "  # # return news items list\n",
        "  # return newsitems\n",
        "\n",
        "  for line in f.readlines():\n",
        "    if line.strip().startswith('<source>'):\n",
        "      #print('hello')\n",
        "      replacement.append(line)\n",
        "      replacement.append('<translation type=\"unfinished\">' + translate_text(line.strip()[8:line.strip().find('</source>')+1])[0]['translation_text'] + '</translation>\\n')\n",
        "\n",
        "    else:    \n",
        "      replacement.append(line)\n",
        "\n",
        "  return replacement"
      ],
      "metadata": {
        "id": "eT2NQZwO5WaL"
      },
      "execution_count": null,
      "outputs": []
    },
    {
      "cell_type": "markdown",
      "source": [
        "### Parse Vue"
      ],
      "metadata": {
        "id": "ycJxlXQQLkQc"
      }
    },
    {
      "cell_type": "code",
      "source": [
        "def parse_vue(f,replacement):\n",
        "\n",
        "  comment_format_e = comment_format_end['vue']\n",
        "  comment_format_s = comment_format_start['vue']\n",
        "\n",
        "#flag to check if a multiple line comment is done or not\n",
        "  comment_closed = True\n",
        "  \n",
        "  #flag to check if line is the first line of file\n",
        "  first_line = True\n",
        "\n",
        "    #read file line by line\n",
        "  for line in f.readlines():\n",
        "  #for mark,line in enumerate(f.readlines()):\n",
        "    #print(line)\n",
        "\n",
        "    #checks if it's in the multiple line comment, \n",
        "    #if not, one line comment cases should be checked\n",
        "    if comment_closed:\n",
        "      \n",
        "      # for file types containing different comment characters\n",
        "      for i in comment_format_s:\n",
        "        count = 0\n",
        "        #if the comment started from first of line\n",
        "        if line.strip().startswith(i):\n",
        "          #replacement.append(\"{}\".format(i) + replace_text(line.strip().split(i)[1]))\n",
        "                    \n",
        "          replacement.append(re.findall(\"^ *\",line)[0] + i + replace_text(line.strip().split(i)[1])+'\\n'\n",
        "                              # +re.findall(\"^ *\",line)[0]\n",
        "                              )\n",
        "          #print('startswith{}'.format(i),mark)\n",
        "          #try:\n",
        "\n",
        "          #if the line hasn't been ended with ending comment character, next lines should be considered as comment\n",
        "          if not line.endswith(comment_format_e[count]) and len(comment_format_s)>1 and file_type not in ['html','htm','vue']:\n",
        "            if i == comment_format_s[0] or i == comment_format_s[1]:\n",
        "              comment_closed = False\n",
        "          #except NameError:\n",
        "\n",
        "          if not line.strip().endswith(comment_format_e[count]) and file_type in ['html','htm','vue']:\n",
        "            # if i == comment_format_s[0]:\n",
        "            #print('daali',line)\n",
        "            comment_closed = False\n",
        "\n",
        "          # else:\n",
        "          #   print('one line comment')\n",
        "\n",
        "        #if comment started from middle of line\n",
        "        if len(line.strip().split(i))>1 and line.strip().split(i)[0] != \"\" :\n",
        "          replacement.append(re.findall(\"^ *\",line)[0]+ line.strip().split(i)[0]+\"{}\".format(i)+\n",
        "                              replace_text(line.strip().split(i)[1]+'\\n'\n",
        "                            #  +re.findall(\"^ *\",line)[0]\n",
        "                            ) )\n",
        "          #print('contains one line comment',mark)\n",
        "\n",
        "\n",
        "        #else:\n",
        "      #if it's first line translate it by the way\n",
        "        if first_line:\n",
        "          if line.strip().startswith('<!--') or not line.strip().startswith(comment_format_s[0]) :\n",
        "            #print(line)\n",
        "            replacement.append('')\n",
        "          else:\n",
        "            #print(line, 'hello')\n",
        "            if len(line.strip().split(comment_format_s[0]))>1  :\n",
        "              replacement.append(replace_text(line.split(comment_format_s[0])[1]))\n",
        "            if len(line.strip().split(comment_format_s[1]))>1 :\n",
        "              replacement.append(replace_text(line.split(comment_format_s[1])[1]))\n",
        "            else:\n",
        "              replacement.append(replace_text(line))\n",
        "        count +=1\n",
        "      #append the line to new text if it's not repeated   \n",
        "    if len(replacement)>0:\n",
        "      #print(mark)\n",
        "      if replacement[-1] != line[:line.index('\\n')]:\n",
        "        replacement.append(line)\n",
        "        #print('no comment found')\n",
        "\n",
        "        \n",
        "\n",
        "      #We are in a multiple line comment, so it should translate it all till it sees ending comment character\n",
        "      else:\n",
        "        replacement.append(replace_text(line))\n",
        "        #print('comment continues',mark)\n",
        "\n",
        "      for i in comment_format_e:\n",
        "        if line.find(i):\n",
        "          comment_closed = True\n",
        "\n",
        "      first_line = False\n",
        "\n",
        "\n",
        "  return replacement"
      ],
      "metadata": {
        "id": "uK52DiSpWOEo"
      },
      "execution_count": 106,
      "outputs": []
    },
    {
      "cell_type": "code",
      "source": [
        ""
      ],
      "metadata": {
        "id": "0APwUa3kLjO1"
      },
      "execution_count": 93,
      "outputs": []
    },
    {
      "cell_type": "markdown",
      "source": [
        "### Parse Text"
      ],
      "metadata": {
        "id": "onWFLIiGO1mJ"
      }
    },
    {
      "cell_type": "code",
      "source": [
        "def parse_text(file_type,comment_format_s,f,replacement):\n",
        "\n",
        "  if file_type == 'py':\n",
        "      return parse_python(f,replacement)\n",
        "\n",
        "  if file_type == 'ts' or file_type == 'xml':\n",
        "    return parse_xml(f,replacement)\n",
        "\n",
        "  if file_type == 'vue':\n",
        "    #print('im vue')\n",
        "    return parse_vue(f,replacement)\n",
        "\n",
        "  else:\n",
        "    #flag to check if a multiple line comment is done or not\n",
        "    comment_closed = True\n",
        "    \n",
        "    #flag to check if line is the first line of file\n",
        "    first_line = True\n",
        "\n",
        "    if comment_format_end.get(file_type) != None :\n",
        "      comment_format_e = comment_format_end[file_type]\n",
        "\n",
        "    if comment_format_s != None:\n",
        "      #read file line by line\n",
        "      for line in f.readlines():\n",
        "      #for mark,line in enumerate(f.readlines()):\n",
        "        #print(line)\n",
        "\n",
        "        #checks if it's in the multiple line comment, \n",
        "        #if not, one line comment cases should be checked\n",
        "        if comment_closed:\n",
        "          \n",
        "          # for file types containing different comment characters\n",
        "          for i in comment_format_s:\n",
        "\n",
        "            #if the comment started from first of line\n",
        "            if line.strip().startswith(i):\n",
        "              #replacement.append(\"{}\".format(i) + replace_text(line.strip().split(i)[1]))\n",
        "                       \n",
        "              replacement.append(re.findall(\"^ *\",line)[0] + i + replace_text(line.strip().split(i)[1])+'\\n'\n",
        "                                  +re.findall(\"^ *\",line)[0]\n",
        "                                 )\n",
        "              #print('startswith{}'.format(i),mark)\n",
        "              #try:\n",
        "\n",
        "              #if the line hasn't been ended with ending comment character, next lines should be considered as comment\n",
        "              if not line.endswith(comment_format_e) and len(comment_format_s)>1 and file_type not in ['html','htm','vue']:\n",
        "                if i == comment_format_s[0]:\n",
        "                  comment_closed = False\n",
        "              #except NameError:\n",
        "\n",
        "              if not line.strip().endswith(comment_format_e) and file_type in ['html','htm','vue']:\n",
        "                # if i == comment_format_s[0]:\n",
        "                print('daali',line)\n",
        "                comment_closed = False\n",
        "\n",
        "              # else:\n",
        "              #   print('one line comment')\n",
        "\n",
        "            #if comment started from middle of line\n",
        "            if len(line.strip().split(i))>1 and line.strip().split(i)[0] != \"\" :\n",
        "              replacement.append(re.findall(\"^ *\",line)[0]+ line.strip().split(i)[0]+\"{}\".format(i)+\n",
        "                                 replace_text(line.strip().split(i)[1]+'\\n'\n",
        "                                #  +re.findall(\"^ *\",line)[0]\n",
        "                                ) )\n",
        "              #print('contains one line comment',mark)\n",
        "\n",
        "\n",
        "            #else:\n",
        "          #if it's first line translate it by the way\n",
        "          if first_line:\n",
        "            if line.strip().startswith('package') or not line.strip().startswith(comment_format_s[0]) :\n",
        "              #print(line)\n",
        "              replacement.append('')\n",
        "            else:\n",
        "              #print(line, 'hello')\n",
        "              if len(line.strip().split(comment_format_s[0]))>1  :\n",
        "                replacement.append(replace_text(line.split(comment_format_s[0])[1]))\n",
        "              else:\n",
        "                replacement.append(replace_text(line))\n",
        "\n",
        "          #append the line to new text if it's not repeated   \n",
        "          if len(replacement)>0:\n",
        "            #print(mark)\n",
        "            if replacement[-1] != line[:line.index('\\n')]:\n",
        "              replacement.append(line)\n",
        "              #print('no comment found')\n",
        "\n",
        "        #We are in a multiple line comment, so it should translate it all till it sees ending comment character\n",
        "        else:\n",
        "          replacement.append(re.findall(\"^ *\",line)[0] + replace_text(line)+re.findall(\"^ *\",line)[0]+'\\n')\n",
        "          #print('comment continues',mark)\n",
        "\n",
        "          if line.find(comment_format_e):\n",
        "            comment_closed = True\n",
        "\n",
        "        first_line = False\n",
        "    #except NameError:\n",
        "\n",
        "    #file doesn't contain comments and we should search for chinese characters whole th file\n",
        "    else:\n",
        "      #print('This file doesnt contain comment')\n",
        "      for line in f.readlines():\n",
        "        replacement.append(replace_text(line))\n",
        "\n",
        "    return replacement\n"
      ],
      "metadata": {
        "id": "eLPTWqlpO0UF"
      },
      "execution_count": 114,
      "outputs": []
    },
    {
      "cell_type": "markdown",
      "source": [
        "### Main process of parsing text and creating new text file"
      ],
      "metadata": {
        "id": "GQiBjWPvfWN4"
      }
    },
    {
      "cell_type": "code",
      "source": [
        "\n",
        "def process_text(input_path,path):\n",
        "  f = open(input_path,'a')\n",
        "  f.write('\\n\\n\\n')\n",
        "  f.close()\n",
        "  try:\n",
        "    f = open(input_path,'r')\n",
        "    #get type of file based on its name (name.type)\n",
        "    file_name, file_type = os.path.splitext(input_path)\n",
        "    file_type = file_type[1:].lower()\n",
        "\n",
        "    #new text file to be written\n",
        "    replacement = []\n",
        "\n",
        "    #try:\n",
        "\n",
        "    #if the file type contains comment or not (like .md or .txt files)\n",
        "    #if the file is comment included, checks all possible comment formats \n",
        "    if comment_format_start.get(file_type) != None:\n",
        "      comment_format_s = comment_format_start[file_type]\n",
        "      #print(comment_format_s)\n",
        "    else:\n",
        "      comment_format_s =None\n",
        "\n",
        "    #searches for ending comment character, if the file type supports\n",
        "    if comment_format_end.get(file_type) != None :\n",
        "      comment_format_e = comment_format_end[file_type]\n",
        "\n",
        "    replacement = parse_text(file_type,comment_format_s,f,replacement)\n",
        "\n",
        "    f.close()\n",
        "    #write new text in a translated file\n",
        "    if len(replacement) != 0:\n",
        "      fout = open(\"{}/{}_.{}\".format(path,file_name,file_type), \"w\")\n",
        "      fout.writelines(replacement)\n",
        "      fout.close()  \n",
        "\n",
        "  except IOError:\n",
        "    print('No File Found')\n",
        "\n"
      ],
      "metadata": {
        "id": "poG1m89meuOG"
      },
      "execution_count": 107,
      "outputs": []
    },
    {
      "cell_type": "markdown",
      "source": [
        "### Run this! "
      ],
      "metadata": {
        "id": "UpqH25Cffel_"
      }
    },
    {
      "cell_type": "code",
      "source": [
        "process_text('./output_folder2/business/ReportApplication.java','./')"
      ],
      "metadata": {
        "id": "vHp7Mi2LfZd2"
      },
      "execution_count": 115,
      "outputs": []
    },
    {
      "cell_type": "code",
      "source": [
        "!unzip \"src.zip\" -d \"./output_folder4/\""
      ],
      "metadata": {
        "id": "3e9M6Kuzg6mn"
      },
      "execution_count": null,
      "outputs": []
    },
    {
      "cell_type": "code",
      "source": [
        "!unzip \"business.zip\" -d \"./output_folder2/\""
      ],
      "metadata": {
        "id": "ZYgEDuW9O2DQ"
      },
      "execution_count": null,
      "outputs": []
    },
    {
      "cell_type": "code",
      "source": [
        "import os\n",
        "\n",
        "yourpath = './output_folder2'\n",
        "\n",
        "for root, dirs, files in os.walk(yourpath, topdown=False):\n",
        "    for name in files:\n",
        "      file_name, file_type = os.path.splitext(name)\n",
        "      file_type = file_type[1:].lower()\n",
        "      if file_type in list(comment_format_start.keys()) or file_type=='json':\n",
        "        print(os.path.join(root, name))\n",
        "        process_text(os.path.join(root, name),'./')\n",
        "        \n",
        "        #print('daali')\n",
        "      #else:\n",
        "        #print(os.path.join(root, name))\n",
        "        #process_text(os.path.join(root, name),'./')\n",
        "    # for name in dirs:\n",
        "    #     print(os.path.join(root, name))\n",
        "        "
      ],
      "metadata": {
        "id": "e8X1reLF4nd4"
      },
      "execution_count": null,
      "outputs": []
    },
    {
      "cell_type": "code",
      "source": [
        "!zip -r /content/output_folder2/bus_trans.zip /content/output_folder2"
      ],
      "metadata": {
        "id": "H0OOMUV5Av_j"
      },
      "execution_count": null,
      "outputs": []
    },
    {
      "cell_type": "code",
      "source": [
        "for filename in os.listdir('./test'):\n",
        "  process_text('./test/{}'.format(filename))"
      ],
      "metadata": {
        "id": "PATMBvBS3vVa"
      },
      "execution_count": null,
      "outputs": []
    },
    {
      "cell_type": "code",
      "source": [
        "df = pd.read_xml('WorkPro_fa.ts',xpath='./context/message/source')"
      ],
      "metadata": {
        "id": "QoqSXt2K364r"
      },
      "execution_count": null,
      "outputs": []
    },
    {
      "cell_type": "code",
      "source": [
        "f = open('WorkPro_fa.ts','r')\n",
        "replacement = []"
      ],
      "metadata": {
        "id": "q2ZbDB5SSH87"
      },
      "execution_count": null,
      "outputs": []
    },
    {
      "cell_type": "code",
      "source": [
        "for line in f.readlines():\n",
        "  if line.strip().startswith('<source>'):\n",
        "    print('hello')\n",
        "    replacement.append(line)\n",
        "    replacement.append('<translation type=\"unfinished\">' + translate_text(line.strip()[8:line.strip().find('</source>')+1])[0]['translation_text'] + '</translation>\\n')\n",
        "\n",
        "  else:    \n",
        "    replacement.append(line)\n",
        "f.close()"
      ],
      "metadata": {
        "id": "UJlen_09361I"
      },
      "execution_count": null,
      "outputs": []
    },
    {
      "cell_type": "code",
      "source": [
        "replacement"
      ],
      "metadata": {
        "id": "C1j4wHFW36ys"
      },
      "execution_count": null,
      "outputs": []
    },
    {
      "cell_type": "code",
      "source": [
        ""
      ],
      "metadata": {
        "id": "W-ZlnNh136v5"
      },
      "execution_count": null,
      "outputs": []
    },
    {
      "cell_type": "code",
      "source": [
        ""
      ],
      "metadata": {
        "id": "n6lRUXM136s0"
      },
      "execution_count": null,
      "outputs": []
    },
    {
      "cell_type": "code",
      "source": [
        ""
      ],
      "metadata": {
        "id": "CTaVGThd36qH"
      },
      "execution_count": null,
      "outputs": []
    },
    {
      "cell_type": "markdown",
      "source": [
        "---"
      ],
      "metadata": {
        "id": "rod4BLqjORJe"
      }
    },
    {
      "cell_type": "markdown",
      "source": [
        "## Script"
      ],
      "metadata": {
        "id": "h0IisRRs_NNi"
      }
    },
    {
      "cell_type": "code",
      "source": [
        "#!/usr/bin/env python\n",
        "#-*- coding: utf-8 -*-\n",
        "def translate_text(ch_text):\n",
        "  \"\"\"\n",
        "  pass your chinese text and it returns its english translation \n",
        "  \"\"\"\n",
        "\n",
        "  zh2en_model = pickle.loads(saved_model)\n",
        "  zh2en_tokenizer = pickle.loads(saved_tokenizer)\n",
        "  zh2en_translation = pipeline('translation_zh_to_en', \n",
        "                      model=zh2en_model, \n",
        "                      tokenizer=zh2en_tokenizer)\n",
        "  return zh2en_translation(ch_text)\n",
        "\n",
        "comment_format_start = {'html':['<!--'],'htm':['<!--'],'xml':['<!--'],'js':['//','/*'],'java':['//','/*'],'py':['#']}\n",
        "comment_format_end = {'html':'-->','htm':'-->','xml':'-->','js':'*/','java':'*/'}\n",
        "\n",
        "def replace_text(line):\n",
        "  \"\"\"\n",
        "  pass line you want to change and the text before to replace new line \n",
        "  in new text\n",
        "  \"\"\"\n",
        "\n",
        "  if re.search('[\\u4e00-\\u9fff]',line) != None:\n",
        "    #line = line.replace('Hello', 'import')\n",
        "    #sys.stdout.write(line)\n",
        "\n",
        "    changes = line.replace(line, translate_text(line)[0]['translation_text'])\n",
        "    return changes \n",
        "\n",
        "  else:\n",
        "    return line \n",
        "\n",
        "def parse_python(f,replacement):\n",
        "  closed = True\n",
        "  for line in f.readlines():\n",
        "    #print(line)\n",
        "    if closed:\n",
        "    \n",
        "      if line.strip().startswith('#') :\n",
        "        replacement.append(\"#\" + replace_text(line.split('#')[1])) \n",
        "\n",
        "      if len(line.strip().split('#'))>1 and line.strip().split('#')[0] != \"\" :\n",
        "        replacement.append(line.strip().split('#')[0]+\"{}\".format('#')+replace_text(line.strip().split('#')[1]))\n",
        "\n",
        "      if line.strip().startswith('\"\"\"') :\n",
        "        closed = False\n",
        "        if line.strip().endswith('\"\"\"') and len(line.split('\"\"\"'))>2:\n",
        "          #print(line)\n",
        "          #replacement.append('\"\"\"' +replace_text( line.strip().split('\"\"\"')[1] )+ '\"\"\"')\n",
        "          replacement.append(re.findall(\"^ *\",line)[0]+'\"\"\"\\n' +re.findall(\"^ *\",line)[0] + replace_text( line.strip().split('\"\"\"')[1] )+ \n",
        "                             '\\n'+re.findall(\"^ *\",line)[0] + '\"\"\"\\n')\n",
        "          #print('here')\n",
        "          closed = True\n",
        "        else:\n",
        "          replacement.append(line)\n",
        "        \n",
        "      #\n",
        "      \n",
        "      #re.findall(\"\"\"(['\"])(?:(?=(\\\\?))\\2([\\u4e00-\\u9fff\\d\\s\\W]))*?\\1\"\"\",'df_arts[\"考室30---+-号56451\"    \" 考 2 zzz  135 \"] = \"号abc\"')\n",
        "\n",
        "      #if line.strip().startswith('\\'') :\n",
        "        #replacement.append('\\'' + replace_text(line.split('\\'')[1]))\n",
        "        #while line.find('\\'') == -1:\n",
        "         # replacement.append(replace_text(line.split('\\'')[1]))\n",
        "\n",
        "        #replacement.append( replace_text(line.split('\\'')[1])+'\\'' )\n",
        "\n",
        "        \n",
        "      #if line.strip().startswith('\\\"') :\n",
        "        #replacement.append('\\\"' + replace_text(line.split('\\\"')[1]))\n",
        "        #while line.find('\\\"') == -1:\n",
        "         # replacement.append(replace_text(line.split('\\\"')[1]))\n",
        "\n",
        "        #replacement.append( replace_text(line.split('\\\"')[1])+'\\\"' )\n",
        "\n",
        "      else:\n",
        "        replacement.append(line)\n",
        "\n",
        "    else:\n",
        "      #should i add this?\n",
        "      #replacement.append( replace_text(line.split('\"\"\"')[1])+'\"\"\"' )\n",
        "      #print('Im here')\n",
        "      replacement.append(replace_text(line)+'\\n')\n",
        "      if line.strip().startswith('\"\"\"') or line.strip().endswith('\"\"\"'):\n",
        "        #print('im here')\n",
        "        closed = True\n",
        "\n",
        "  return replacement\n",
        "\n",
        "def parse_text(file_type,comment_format_s,f,replacement):\n",
        "\n",
        "  if file_type == 'py':\n",
        "      return parse_python(f,replacement)\n",
        "\n",
        "  else:\n",
        "    #flag to check if a multiple line comment is done or not\n",
        "    comment_closed = True\n",
        "    \n",
        "    #flag to check if line is the first line of file\n",
        "    first_line = True\n",
        "\n",
        "    if comment_format_end.get(file_type) != None :\n",
        "      comment_format_e = comment_format_end[file_type]\n",
        "\n",
        "    if comment_format_s != None:\n",
        "      #read file line by line\n",
        "      for line in f.readlines():\n",
        "      #for mark,line in enumerate(f.readlines()):\n",
        "        #print(line)\n",
        "\n",
        "        #checks if it's in the multiple line comment, \n",
        "        #if not, one line comment cases should be checked\n",
        "        if comment_closed:\n",
        "          \n",
        "          # for file types containing different comment characters\n",
        "          for i in comment_format_s:\n",
        "\n",
        "            #if the comment started from first of line\n",
        "            if line.strip().startswith(i):\n",
        "              #replacement.append(\"{}\".format(i) + replace_text(line.strip().split(i)[1]))\n",
        "              replacement.append(i + replace_text(line.strip().split(i)[1]))\n",
        "              #print('startswith{}'.format(i),mark)\n",
        "              #try:\n",
        "\n",
        "              #if the line hasn't been ended with ending comment character, next lines should be considered as comment\n",
        "              if not line.endswith(comment_format_e) and len(comment_format_s)>1:\n",
        "                if i == comment_format_s[1]:\n",
        "                  comment_closed = False\n",
        "              #except NameError:\n",
        "              else:\n",
        "                print('one line comment')\n",
        "\n",
        "            #if comment started from middle of line\n",
        "            if len(line.strip().split(i))>1 and line.strip().split(i)[0] != \"\" :\n",
        "              replacement.append(line.strip().split(i)[0]+\"{}\".format(i)+replace_text(line.strip().split(i)[1]))\n",
        "              #print('contains one line comment',mark)\n",
        "\n",
        "\n",
        "            #else:\n",
        "          #if it's first line translate it by the way\n",
        "          if first_line:\n",
        "            if len(line.split(comment_format_s[1]))>1:\n",
        "              replacement.append(replace_text(line.split(comment_format_s[1])[1]))\n",
        "            else:\n",
        "              replacement.append(replace_text(line))\n",
        "\n",
        "          #append the line to new text if it's not repeated   \n",
        "          if len(replacement)>0:\n",
        "            #print(mark)\n",
        "            if replacement[-1] != line[:line.index('\\n')]:\n",
        "              replacement.append(line)\n",
        "              #print('no comment found')\n",
        "\n",
        "        #We are in a multiple line comment, so it should translate it all till it sees ending comment character\n",
        "        else:\n",
        "          replacement.append(replace_text(line))\n",
        "          #print('comment continues',mark)\n",
        "\n",
        "          if line.find(comment_format_e):\n",
        "            comment_closed = True\n",
        "\n",
        "        first_line = False\n",
        "    #except NameError:\n",
        "\n",
        "    #file doesn't contain comments and we should search for chinese characters whole th file\n",
        "    else:\n",
        "      #print('This file doesnt contain comment')\n",
        "      for line in f.readlines():\n",
        "        replacement.append(replace_text(line))\n",
        "\n",
        "    return replacement\n",
        "\n",
        "\n",
        "def process_text(input_path):\n",
        "  f = open(input_path,'a')\n",
        "  f.write('\\n\\n\\n')\n",
        "  f.close()\n",
        "  try:\n",
        "    f = open(input_path,'r')\n",
        "    #get type of file based on its name (name.type)\n",
        "    file_name, file_type = os.path.splitext(input_path)\n",
        "    file_type = file_type[1:].lower()\n",
        "\n",
        "    #new text file to be written\n",
        "    replacement = []\n",
        "\n",
        "    #try:\n",
        "\n",
        "    #if the file type contains comment or not (like .md or .txt files)\n",
        "    #if the file is comment included, checks all possible comment formats \n",
        "    if comment_format_start.get(file_type) != None:\n",
        "      comment_format_s = comment_format_start[file_type]\n",
        "      #print(comment_format_s)\n",
        "    else:\n",
        "      comment_format_s =None\n",
        "\n",
        "    #searches for ending comment character, if the file type supports\n",
        "    if comment_format_end.get(file_type) != None :\n",
        "      comment_format_e = comment_format_end[file_type]\n",
        "\n",
        "    replacement = parse_text(file_type,comment_format_s,f,replacement)\n",
        "\n",
        "    f.close()\n",
        "    #write new text in a translated file\n",
        "    if len(replacement) != 0:\n",
        "      fout = open(\"{}_translated.{}\".format(file_name,file_type), \"w\")\n",
        "      fout.writelines(replacement)\n",
        "      fout.close()  \n",
        "\n",
        "  except IOError:\n",
        "    print('No File Found')\n",
        "\n",
        "def process_text(input_path):\n",
        "  f = open(input_path,'a')\n",
        "  f.write('\\n\\n\\n')\n",
        "  f.close()\n",
        "  try:\n",
        "    f = open(input_path,'r')\n",
        "    #get type of file based on its name (name.type)\n",
        "    file_name, file_type = os.path.splitext(input_path)\n",
        "    file_type = file_type[1:].lower()\n",
        "\n",
        "    #new text file to be written\n",
        "    replacement = []\n",
        "\n",
        "    #try:\n",
        "\n",
        "    #if the file type contains comment or not (like .md or .txt files)\n",
        "    #if the file is comment included, checks all possible comment formats \n",
        "    if comment_format_start.get(file_type) != None:\n",
        "      comment_format_s = comment_format_start[file_type]\n",
        "      #print(comment_format_s)\n",
        "    else:\n",
        "      comment_format_s =None\n",
        "\n",
        "    #searches for ending comment character, if the file type supports\n",
        "    if comment_format_end.get(file_type) != None :\n",
        "      comment_format_e = comment_format_end[file_type]\n",
        "\n",
        "    replacement = parse_text(file_type,comment_format_s,f,replacement)\n",
        "\n",
        "    f.close()\n",
        "    #write new text in a translated file\n",
        "    if len(replacement) != 0:\n",
        "      fout = open(\"{}_translated.{}\".format(file_name,file_type), \"w\")\n",
        "      fout.writelines(replacement)\n",
        "      fout.close()  \n",
        "\n",
        "  except IOError:\n",
        "    print('No File Found')\n",
        "\n",
        "path = input('Enter your file path, translated file will be saved in same directory: ')\n",
        "process_text(path)"
      ],
      "metadata": {
        "colab": {
          "base_uri": "https://localhost:8080/"
        },
        "id": "5UTCPFrcOQc5",
        "outputId": "e134e73e-947c-45e8-84c6-3ad7d5f0ad91"
      },
      "execution_count": null,
      "outputs": [
        {
          "name": "stdout",
          "output_type": "stream",
          "text": [
            "Enter your file path, translated file will be saved in same directory: validate.js\n"
          ]
        }
      ]
    },
    {
      "cell_type": "code",
      "source": [
        "'        \"\"\"把文科和理科平均分合成一张excel电子表\"\"\"\\n'.strip().endswith('\"\"\"')"
      ],
      "metadata": {
        "colab": {
          "base_uri": "https://localhost:8080/"
        },
        "id": "zp3RJErL9sMw",
        "outputId": "80aefa04-b9d0-4787-ae3d-839afc676345"
      },
      "execution_count": null,
      "outputs": [
        {
          "output_type": "execute_result",
          "data": {
            "text/plain": [
              "True"
            ]
          },
          "metadata": {},
          "execution_count": 17
        }
      ]
    },
    {
      "cell_type": "code",
      "source": [
        "translate_text('\"\"\"把文科和理科平均分合成一张excel电子表\"\"\"'.split('\"\"\"')[1])"
      ],
      "metadata": {
        "colab": {
          "base_uri": "https://localhost:8080/"
        },
        "id": "0FQyyW7rLm8H",
        "outputId": "6f8cc60c-045c-47ad-a158-2107c6dd4fb9"
      },
      "execution_count": null,
      "outputs": [
        {
          "output_type": "execute_result",
          "data": {
            "text/plain": [
              "[{'translation_text': 'Synthesizing arts and science on average into an Excel spreadsheet.'}]"
            ]
          },
          "metadata": {},
          "execution_count": 20
        }
      ]
    },
    {
      "cell_type": "code",
      "source": [
        ""
      ],
      "metadata": {
        "id": "tYsSTup5M0wT"
      },
      "execution_count": null,
      "outputs": []
    }
  ]
}